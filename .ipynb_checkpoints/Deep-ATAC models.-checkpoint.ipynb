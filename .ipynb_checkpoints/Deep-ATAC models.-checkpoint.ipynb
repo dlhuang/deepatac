{
 "cells": [
  {
   "cell_type": "markdown",
   "metadata": {},
   "source": [
    "# Some minor details\n",
    "\n",
    "- Forward and reverse reads are treated separately\n",
    "- Duplicated reads are removed to combat PCR biases\n",
    "- We focus on central 200bps rather than 1000bps to speed up learning.\n",
    "- I've inserted batchnorm layers before the activations of the conv layers.\n",
    "- Ended up binarizing the ATAC-seq signals so that it is in line with DNA-sequence data.\n",
    "- Double-arm model (One CNN model per atac-seq data and DNA-sequence data) was tried. I did not get much improvement and it took ages to train, so ended up concatenating the ATAC-seq signal to DNA-sequence data."
   ]
  },
  {
   "cell_type": "code",
   "execution_count": 1,
   "metadata": {
    "collapsed": false
   },
   "outputs": [
    {
     "name": "stderr",
     "output_type": "stream",
     "text": [
      "Using Theano backend.\n",
      "WARNING (theano.sandbox.cuda): The cuda backend is deprecated and will be removed in the next release (v0.10).  Please switch to the gpuarray backend. You can get more information about how to switch at this URL:\n",
      " https://github.com/Theano/Theano/wiki/Converting-to-the-new-gpu-back-end%28gpuarray%29\n",
      "\n",
      "Using gpu device 0: GeForce GTX 980 Ti (CNMeM is disabled, cuDNN 5005)\n"
     ]
    }
   ],
   "source": [
    "%matplotlib inline\n",
    "\n",
    "import sys\n",
    "sys.path.append(\"../../ee595\")\n",
    "from deepsea import *\n",
    "\n",
    "from keras.models import Sequential\n",
    "from keras.layers import Flatten, Dense, Dropout, Merge\n",
    "from keras.layers import Reshape\n",
    "from keras.layers.core import Activation\n",
    "from keras.layers.normalization import BatchNormalization\n",
    "from keras.layers.convolutional import UpSampling2D\n",
    "from keras.layers.convolutional import Conv2D, MaxPooling2D\n",
    "from keras.layers.pooling import GlobalMaxPooling2D\n",
    "from keras.layers.core import Flatten\n",
    "from keras.optimizers import SGD\n",
    "from keras import regularizers\n",
    "from keras.callbacks import ModelCheckpoint\n",
    "from keras.layers import Concatenate\n",
    "\n",
    "from sklearn.preprocessing import binarize\n",
    "from sklearn.metrics import average_precision_score\n",
    "from sklearn.metrics import roc_auc_score, roc_curve\n",
    "from sklearn.metrics import precision_recall_curve\n",
    "from sklearn.metrics import average_precision_score\n",
    "from keras import optimizers\n",
    "\n",
    "import numpy as np\n",
    "import scipy as sp\n",
    "import scipy.io as sio\n",
    "\n",
    "import h5py\n",
    "\n",
    "import seaborn as sns\n",
    "import matplotlib.pyplot as plt\n",
    "\n",
    "import pickle\n",
    "from keras.models import load_model\n",
    "import keras.models\n",
    "\n",
    "sys.path.append(\"../../IntegratedGradients\")\n",
    "from IntegratedGradients import integrated_gradients"
   ]
  },
  {
   "cell_type": "code",
   "execution_count": 3,
   "metadata": {
    "collapsed": true
   },
   "outputs": [],
   "source": [
    "model = load_model(\"deepatac_k562_binary.hdf5\")"
   ]
  },
  {
   "cell_type": "code",
   "execution_count": 4,
   "metadata": {
    "collapsed": true
   },
   "outputs": [],
   "source": [
    "model2 = load_model(\"deepsea_k562_binary.hdf5\")"
   ]
  },
  {
   "cell_type": "code",
   "execution_count": 72,
   "metadata": {
    "collapsed": true
   },
   "outputs": [],
   "source": [
    "def save_obj(obj, name):\n",
    "    with open(name, 'wb') as f:\n",
    "        pickle.dump(obj, f, pickle.HIGHEST_PROTOCOL)\n",
    "\n",
    "def load_obj(name ):\n",
    "    with open(name, 'rb') as f:\n",
    "        return pickle.load(f)"
   ]
  },
  {
   "cell_type": "markdown",
   "metadata": {},
   "source": [
    "# Model definitions\n",
    "\n",
    "Defined with Keras. The dourble arm model is defined at the end."
   ]
  },
  {
   "cell_type": "code",
   "execution_count": 73,
   "metadata": {
    "collapsed": true
   },
   "outputs": [],
   "source": [
    "def ATACPeak(out):\n",
    "    nkernels = [160,240,480]\n",
    "    in_size = (1,200,6)\n",
    "    l2_lam = 5e-07 \n",
    "    l1_lam = 1e-08 \n",
    "\n",
    "    model = Sequential()\n",
    "    model.add(Conv2D(nkernels[0], kernel_size=(1,8), strides=(1,1), padding='same', input_shape=in_size, kernel_regularizer=regularizers.l2(l2_lam)))\n",
    "    model.add(BatchNormalization())\n",
    "    model.add(Activation('relu'))\n",
    "    model.add(MaxPooling2D(pool_size=(1,4), strides=(1,4)))\n",
    "    model.add(Dropout(0.2))\n",
    "\n",
    "    model.add(Conv2D(nkernels[1], kernel_size=(1,8), strides=(1,1), padding='same', kernel_regularizer=regularizers.l2(l2_lam)))\n",
    "    model.add(BatchNormalization())\n",
    "    model.add(Activation('relu'))\n",
    "    model.add(MaxPooling2D(pool_size=(1,4), strides=(1,4)))\n",
    "    model.add(Dropout(0.2))\n",
    "\n",
    "    model.add(Conv2D(nkernels[1], kernel_size=(1,8), strides=(1,1), padding='same', kernel_regularizer=regularizers.l2(l2_lam)))\n",
    "    model.add(BatchNormalization())\n",
    "    model.add(Activation('relu'))\n",
    "    model.add(Dropout(0.5))\n",
    "\n",
    "    model.add(Flatten())\n",
    "    model.add(Dense(919, kernel_regularizer=regularizers.l1(l1_lam)))\n",
    "    model.add(Activation('relu'))\n",
    "    model.add(Dense(out, kernel_regularizer=regularizers.l1(l1_lam)))\n",
    "    model.add(Activation('sigmoid'))\n",
    "    \n",
    "    return model"
   ]
  },
  {
   "cell_type": "code",
   "execution_count": 74,
   "metadata": {
    "collapsed": true
   },
   "outputs": [],
   "source": [
    "def ATACPeak2(out):\n",
    "    nkernels = [160,240,480]\n",
    "    in_size = (1,200,6)\n",
    "    l2_lam = 5e-07 \n",
    "    l1_lam = 1e-08 \n",
    "\n",
    "    model = Sequential()\n",
    "    model.add(Conv2D(nkernels[0], kernel_size=(1,8), strides=(1,1), padding='same', input_shape=in_size, kernel_regularizer=regularizers.l2(l2_lam)))\n",
    "    model.add(BatchNormalization())\n",
    "    model.add(Activation('relu'))\n",
    "    model.add(MaxPooling2D(pool_size=(1,4), strides=(1,4)))\n",
    "    model.add(Dropout(0.2))\n",
    "\n",
    "    model.add(Conv2D(nkernels[1], kernel_size=(1,8), strides=(1,1), padding='same', kernel_regularizer=regularizers.l2(l2_lam)))\n",
    "    model.add(BatchNormalization())\n",
    "    model.add(Activation('relu'))\n",
    "    model.add(MaxPooling2D(pool_size=(1,4), strides=(1,4)))\n",
    "    model.add(Dropout(0.2))\n",
    "\n",
    "    model.add(Conv2D(nkernels[1], kernel_size=(1,8), strides=(1,1), padding='same', kernel_regularizer=regularizers.l2(l2_lam)))\n",
    "    model.add(BatchNormalization())\n",
    "    model.add(Activation('relu'))\n",
    "    model.add(GlobalMaxPooling2D())\n",
    "    \n",
    "    model.add(Dropout(0.2))\n",
    "\n",
    "    model.add(Dense(919, kernel_regularizer=regularizers.l1(l1_lam)))\n",
    "    model.add(Activation('relu'))\n",
    "    model.add(Dense(out, kernel_regularizer=regularizers.l1(l1_lam)))\n",
    "    model.add(Activation('sigmoid'))\n",
    "    \n",
    "    return model"
   ]
  },
  {
   "cell_type": "code",
   "execution_count": 75,
   "metadata": {
    "collapsed": true
   },
   "outputs": [],
   "source": [
    "def DeepSEA(out):\n",
    "    nkernels = [160,240,480]\n",
    "    in_size = (1,200,4)\n",
    "    l2_lam = 5e-07 \n",
    "    l1_lam = 1e-08 \n",
    "\n",
    "    model = Sequential()\n",
    "    model.add(Conv2D(nkernels[0], kernel_size=(1,8), strides=(1,1), padding='same', input_shape=in_size, kernel_regularizer=regularizers.l2(l2_lam)))\n",
    "    model.add(BatchNormalization())    \n",
    "    model.add(Activation('relu'))\n",
    "    model.add(MaxPooling2D(pool_size=(1,4), strides=(1,4)))\n",
    "    model.add(Dropout(0.2))\n",
    "\n",
    "    model.add(Conv2D(nkernels[1], kernel_size=(1,8), strides=(1,1), padding='same', kernel_regularizer=regularizers.l2(l2_lam)))\n",
    "    model.add(BatchNormalization())    \n",
    "    model.add(Activation('relu'))\n",
    "    model.add(MaxPooling2D(pool_size=(1,4), strides=(1,4)))\n",
    "    model.add(Dropout(0.2))\n",
    "\n",
    "    model.add(Conv2D(nkernels[1], kernel_size=(1,8), strides=(1,1), padding='same', kernel_regularizer=regularizers.l2(l2_lam)))\n",
    "    model.add(BatchNormalization())    \n",
    "    model.add(Activation('relu'))\n",
    "    model.add(Dropout(0.5))\n",
    "\n",
    "    model.add(Flatten())\n",
    "    model.add(Dense(919, kernel_regularizer=regularizers.l1(l1_lam)))\n",
    "    model.add(Activation('relu'))\n",
    "    model.add(Dense(out, kernel_regularizer=regularizers.l1(l1_lam)))\n",
    "    model.add(Activation('sigmoid'))\n",
    "    \n",
    "    return model"
   ]
  },
  {
   "cell_type": "code",
   "execution_count": 76,
   "metadata": {
    "collapsed": true
   },
   "outputs": [],
   "source": [
    "def atacTest(out):\n",
    "    nkernels = [160,240,480]\n",
    "    in_size = (1,200,2)\n",
    "    l2_lam = 5e-07 \n",
    "    l1_lam = 1e-08 \n",
    "\n",
    "    model = Sequential()\n",
    "    model.add(Conv2D(nkernels[0], kernel_size=(1,8), strides=(1,1), padding='same', input_shape=in_size, kernel_regularizer=regularizers.l2(l2_lam)))\n",
    "    model.add(BatchNormalization())    \n",
    "    model.add(Activation('relu'))\n",
    "    model.add(MaxPooling2D(pool_size=(1,4), strides=(1,4)))\n",
    "    model.add(Dropout(0.2))\n",
    "\n",
    "    model.add(Conv2D(nkernels[1], kernel_size=(1,8), strides=(1,1), padding='same', kernel_regularizer=regularizers.l2(l2_lam)))\n",
    "    model.add(BatchNormalization())    \n",
    "    model.add(Activation('relu'))\n",
    "    model.add(MaxPooling2D(pool_size=(1,4), strides=(1,4)))\n",
    "    model.add(Dropout(0.2))\n",
    "\n",
    "    model.add(Conv2D(nkernels[1], kernel_size=(1,8), strides=(1,1), padding='same', kernel_regularizer=regularizers.l2(l2_lam)))\n",
    "    model.add(BatchNormalization())    \n",
    "    model.add(Activation('relu'))\n",
    "    model.add(Dropout(0.5))\n",
    "\n",
    "    model.add(Flatten())\n",
    "    model.add(Dense(919, kernel_regularizer=regularizers.l1(l1_lam)))\n",
    "    model.add(Activation('relu'))\n",
    "    model.add(Dense(out, kernel_regularizer=regularizers.l1(l1_lam)))\n",
    "    model.add(Activation('sigmoid'))\n",
    "    \n",
    "    return model"
   ]
  },
  {
   "cell_type": "code",
   "execution_count": 77,
   "metadata": {
    "collapsed": true
   },
   "outputs": [],
   "source": [
    "def generate_index(data, xindex):\n",
    "    yindex = []\n",
    "    data = data[:,xindex]\n",
    "    for i in range(data.shape[0]):\n",
    "        if np.sum(data[i, :]) > 0:\n",
    "            yindex.append(i)\n",
    "    return yindex"
   ]
  },
  {
   "cell_type": "markdown",
   "metadata": {},
   "source": [
    "# Data processing\n",
    "\n",
    "The data is processed in a similar manner to the previous iteration."
   ]
  },
  {
   "cell_type": "code",
   "execution_count": null,
   "metadata": {
    "collapsed": false
   },
   "outputs": [],
   "source": [
    "celltype = \"GM12878\"\n",
    "description = [(j.split(\"|\")[1], j.split(\"|\")[0]) for j in open(\"infile.fasta.out\", \"r\").readlines()[0].rstrip().split(\",\")[2:]]\n",
    "indexes = [i for i in range(len(description)) if description[i][1] == celltype]"
   ]
  },
  {
   "cell_type": "code",
   "execution_count": 40,
   "metadata": {
    "collapsed": false
   },
   "outputs": [],
   "source": [
    "train_X, train_Y  =  loaddata(\"../../ee595/data/deepsea/\", \"train\")\n",
    "test_X,  test_Y   =  loaddata(\"../../ee595/data/deepsea/\", \"test\")\n",
    "valid_X, valid_Y  =  loaddata(\"../../ee595/data/deepsea/\", \"valid\")"
   ]
  },
  {
   "cell_type": "code",
   "execution_count": 41,
   "metadata": {
    "collapsed": false
   },
   "outputs": [],
   "source": [
    "# look at the locations where at least one sample is positive.\n",
    "\n",
    "trainindex = generate_index(train_Y, indexes)\n",
    "trainindex2 = trainindex[:len(trainindex)/2]\n",
    "testindex = generate_index(test_Y, indexes)\n",
    "testindex2 = testindex[:len(testindex)/2]\n",
    "validindex = generate_index(valid_Y, indexes)\n",
    "validindex2 = validindex[:len(validindex)/2]"
   ]
  },
  {
   "cell_type": "code",
   "execution_count": 43,
   "metadata": {
    "collapsed": false
   },
   "outputs": [],
   "source": [
    "train_X = train_X[trainindex2, :, 400:600, :]\n",
    "train_Y = train_Y[trainindex2, :][:, indexes]"
   ]
  },
  {
   "cell_type": "code",
   "execution_count": 44,
   "metadata": {
    "collapsed": true
   },
   "outputs": [],
   "source": [
    "np.save(\"trainx\", train_X)\n",
    "np.save(\"trainy\", train_Y)\n",
    "np.save(\"trainindex\", trainindex)"
   ]
  },
  {
   "cell_type": "code",
   "execution_count": 45,
   "metadata": {
    "collapsed": false
   },
   "outputs": [],
   "source": [
    "test_X = test_X[testindex2, :, 400:600, :]\n",
    "test_Y = test_Y[testindex2, :][:, indexes]"
   ]
  },
  {
   "cell_type": "code",
   "execution_count": 46,
   "metadata": {
    "collapsed": true
   },
   "outputs": [],
   "source": [
    "np.save(\"testx\", test_X)\n",
    "np.save(\"testy\", test_Y)\n",
    "np.save(\"testindex\", testindex)"
   ]
  },
  {
   "cell_type": "code",
   "execution_count": 47,
   "metadata": {
    "collapsed": true
   },
   "outputs": [],
   "source": [
    "valid_X = valid_X[validindex2, :, 400:600, :]\n",
    "valid_Y = valid_Y[validindex2, :][:, indexes]"
   ]
  },
  {
   "cell_type": "code",
   "execution_count": 48,
   "metadata": {
    "collapsed": false
   },
   "outputs": [],
   "source": [
    "np.save(\"validx\", valid_X)\n",
    "np.save(\"validy\", valid_Y)\n",
    "np.save(\"validindex\", validindex)"
   ]
  },
  {
   "cell_type": "markdown",
   "metadata": {},
   "source": [
    "data loading"
   ]
  },
  {
   "cell_type": "code",
   "execution_count": 100,
   "metadata": {
    "collapsed": true
   },
   "outputs": [],
   "source": [
    "base = \"./processed_data_gm12878/\""
   ]
  },
  {
   "cell_type": "code",
   "execution_count": 101,
   "metadata": {
    "collapsed": false
   },
   "outputs": [],
   "source": [
    "trainindex = np.load(base+\"trainindex.npy\")\n",
    "trainindex = trainindex[:len(trainindex)/2]\n",
    "testindex = np.load(base+\"testindex.npy\")\n",
    "testindex = testindex[:len(testindex)/2]\n",
    "validindex = np.load(base+\"validindex.npy\")\n",
    "validindex = validindex[:len(validindex)/2]"
   ]
  },
  {
   "cell_type": "code",
   "execution_count": 102,
   "metadata": {
    "collapsed": false
   },
   "outputs": [],
   "source": [
    "# for data loading\n",
    "train_X = np.load(base+\"trainx.npy\")\n",
    "train_Y = np.load(base+\"trainy.npy\")\n",
    "\n",
    "test_X = np.load(base+\"testx.npy\")\n",
    "test_Y = np.load(base+\"testy.npy\")\n",
    "\n",
    "valid_X = np.load(base+\"validx.npy\")\n",
    "valid_Y = np.load(base+\"validy.npy\")"
   ]
  },
  {
   "cell_type": "code",
   "execution_count": 104,
   "metadata": {
    "collapsed": false
   },
   "outputs": [],
   "source": [
    "ATAC_train2 = np.load(base+\"atactrain2.npy\")\n",
    "ATAC_test2 = np.load(base+\"atactest2.npy\")\n",
    "ATAC_valid2 = np.load(base+\"atacvalid2.npy\")"
   ]
  },
  {
   "cell_type": "code",
   "execution_count": 108,
   "metadata": {
    "collapsed": false
   },
   "outputs": [],
   "source": [
    "ATAC_train2 = ATAC_train2[trainindex, :]\n",
    "ATAC_train2 = np.expand_dims(ATAC_train2, 1)\n",
    "ATAC_test2 = ATAC_test2[testindex, :]\n",
    "ATAC_test2 = np.expand_dims(ATAC_test2, 1)\n",
    "ATAC_valid2 = ATAC_valid2[validindex, :]\n",
    "ATAC_valid2 = np.expand_dims(ATAC_valid2, 1)"
   ]
  },
  {
   "cell_type": "code",
   "execution_count": 109,
   "metadata": {
    "collapsed": true
   },
   "outputs": [],
   "source": [
    "ATAC_train3 = (ATAC_train2 > 0).astype(np.int_)\n",
    "ATAC_test3 = (ATAC_test2 > 0).astype(np.int_)\n",
    "ATAC_valid3 = (ATAC_valid2 > 0).astype(np.int_)"
   ]
  },
  {
   "cell_type": "code",
   "execution_count": 111,
   "metadata": {
    "collapsed": false
   },
   "outputs": [],
   "source": [
    "valid_X2 = np.concatenate([valid_X, ATAC_valid3], axis=3)\n",
    "test_X2 = np.concatenate([test_X, ATAC_test3], axis=3)\n",
    "train_X2 = np.concatenate([train_X, ATAC_train3], axis=3)"
   ]
  },
  {
   "cell_type": "markdown",
   "metadata": {},
   "source": [
    "# Training"
   ]
  },
  {
   "cell_type": "code",
   "execution_count": 114,
   "metadata": {
    "collapsed": false
   },
   "outputs": [],
   "source": [
    "model = ATACPeak(91)\n",
    "model.compile(optimizer='adam',\n",
    "              loss='binary_crossentropy',\n",
    "              metrics=['accuracy'])"
   ]
  },
  {
   "cell_type": "code",
   "execution_count": 115,
   "metadata": {
    "collapsed": true
   },
   "outputs": [],
   "source": [
    "filepath=\"weights-improvement-{epoch:02d}-{val_loss:.2f}-atac-multitask-new.hdf5\"\n",
    "checkpoint = ModelCheckpoint(filepath, monitor='val_loss', verbose=1, save_best_only=True, mode='min')\n",
    "callbacks_list = [checkpoint]"
   ]
  },
  {
   "cell_type": "code",
   "execution_count": null,
   "metadata": {
    "collapsed": false
   },
   "outputs": [
    {
     "name": "stdout",
     "output_type": "stream",
     "text": [
      "Epoch 00000: val_loss improved from inf to 0.12312, saving model to weights-improvement-00-0.12-atac-multitask-new.hdf5\n",
      "Epoch 00001: val_loss improved from 0.12312 to 0.11792, saving model to weights-improvement-01-0.12-atac-multitask-new.hdf5\n",
      "Epoch 00002: val_loss did not improve\n"
     ]
    }
   ],
   "source": [
    "result = model.fit(train_X2, train_Y,\n",
    "          epochs=15, \n",
    "          batch_size=256,\n",
    "          callbacks=callbacks_list,\n",
    "          initial_epoch=0, \n",
    "          validation_data=(valid_X2, valid_Y),\n",
    "          verbose=0\n",
    "          )"
   ]
  },
  {
   "cell_type": "code",
   "execution_count": null,
   "metadata": {
    "collapsed": false
   },
   "outputs": [],
   "source": [
    "model2 = DeepSEA(91)\n",
    "model2.compile(optimizer='adam',\n",
    "              loss='binary_crossentropy',\n",
    "              metrics=['accuracy'])"
   ]
  },
  {
   "cell_type": "code",
   "execution_count": null,
   "metadata": {
    "collapsed": true
   },
   "outputs": [],
   "source": [
    "filepath=\"weights-improvement-{epoch:02d}-{val_loss:.2f}-deep-multitask-new.hdf5\"\n",
    "checkpoint = ModelCheckpoint(filepath, monitor='val_loss', verbose=1, save_best_only=True, mode='min')\n",
    "callbacks_list = [checkpoint]"
   ]
  },
  {
   "cell_type": "code",
   "execution_count": null,
   "metadata": {
    "collapsed": false
   },
   "outputs": [],
   "source": [
    "result2 = model2.fit(train_X, train_Y,\n",
    "          epochs=15, \n",
    "          batch_size=256,\n",
    "          callbacks=callbacks_list,\n",
    "          initial_epoch=0, \n",
    "          validation_data=(valid_X, valid_Y),\n",
    "          verbose=0)"
   ]
  },
  {
   "cell_type": "code",
   "execution_count": 186,
   "metadata": {
    "collapsed": false
   },
   "outputs": [],
   "source": [
    "save_obj(result2.history, \"deepsea.history\")"
   ]
  },
  {
   "cell_type": "code",
   "execution_count": 38,
   "metadata": {
    "collapsed": false
   },
   "outputs": [],
   "source": [
    "model3 = atacTest()\n",
    "model3.compile(optimizer='adam',\n",
    "              loss='binary_crossentropy',\n",
    "              metrics=['accuracy'])"
   ]
  },
  {
   "cell_type": "code",
   "execution_count": 39,
   "metadata": {
    "collapsed": true
   },
   "outputs": [],
   "source": [
    "filepath=\"weights-improvement-{epoch:02d}-{val_loss:.2f}-test-multitask-new.hdf5\"\n",
    "checkpoint = ModelCheckpoint(filepath, monitor='val_loss', verbose=1, save_best_only=True, mode='min')\n",
    "callbacks_list = [checkpoint]"
   ]
  },
  {
   "cell_type": "code",
   "execution_count": 40,
   "metadata": {
    "collapsed": false
   },
   "outputs": [
    {
     "name": "stdout",
     "output_type": "stream",
     "text": [
      "Epoch 00000: val_loss improved from inf to 0.22514, saving model to weights-improvement-00-0.23-test-multitask-new.hdf5\n",
      "Epoch 00001: val_loss improved from 0.22514 to 0.21972, saving model to weights-improvement-01-0.22-test-multitask-new.hdf5\n",
      "Epoch 00002: val_loss improved from 0.21972 to 0.21849, saving model to weights-improvement-02-0.22-test-multitask-new.hdf5\n",
      "Epoch 00003: val_loss did not improve\n",
      "Epoch 00004: val_loss did not improve\n",
      "Epoch 00005: val_loss did not improve\n",
      "Epoch 00006: val_loss did not improve\n",
      "Epoch 00007: val_loss did not improve\n",
      "Epoch 00008: val_loss improved from 0.21849 to 0.21645, saving model to weights-improvement-08-0.22-test-multitask-new.hdf5\n",
      "Epoch 00009: val_loss improved from 0.21645 to 0.21612, saving model to weights-improvement-09-0.22-test-multitask-new.hdf5\n",
      "Epoch 00010: val_loss did not improve\n",
      "Epoch 00011: val_loss did not improve\n",
      "Epoch 00012: val_loss did not improve\n",
      "Epoch 00013: val_loss improved from 0.21612 to 0.21589, saving model to weights-improvement-13-0.22-test-multitask-new.hdf5\n",
      "Epoch 00014: val_loss did not improve\n",
      "Epoch 00015: val_loss did not improve\n",
      "Epoch 00016: val_loss did not improve\n",
      "Epoch 00017: val_loss did not improve\n",
      "Epoch 00018: val_loss did not improve\n",
      "Epoch 00019: val_loss did not improve\n"
     ]
    }
   ],
   "source": [
    "result3 = model3.fit(ATAC_train2, train_Y,\n",
    "          epochs=20, \n",
    "          batch_size=256,\n",
    "          callbacks=callbacks_list,\n",
    "          initial_epoch=0, \n",
    "          validation_data=(ATAC_valid2, valid_Y),\n",
    "          verbose=0\n",
    "          )"
   ]
  },
  {
   "cell_type": "code",
   "execution_count": 187,
   "metadata": {
    "collapsed": true
   },
   "outputs": [],
   "source": [
    "save_obj(result3.history, \"atac-asinh.history\")"
   ]
  },
  {
   "cell_type": "code",
   "execution_count": 42,
   "metadata": {
    "collapsed": true
   },
   "outputs": [],
   "source": [
    "model4 = atacTest()\n",
    "model4.compile(optimizer='adam',\n",
    "              loss='binary_crossentropy',\n",
    "              metrics=['accuracy'])"
   ]
  },
  {
   "cell_type": "code",
   "execution_count": 43,
   "metadata": {
    "collapsed": true
   },
   "outputs": [],
   "source": [
    "filepath=\"weights-improvement-{epoch:02d}-{val_loss:.2f}-test2-multitask-new.hdf5\"\n",
    "checkpoint = ModelCheckpoint(filepath, monitor='val_loss', verbose=1, save_best_only=True, mode='min')\n",
    "callbacks_list = [checkpoint]"
   ]
  },
  {
   "cell_type": "code",
   "execution_count": 44,
   "metadata": {
    "collapsed": false
   },
   "outputs": [
    {
     "name": "stdout",
     "output_type": "stream",
     "text": [
      "Epoch 00000: val_loss improved from inf to 0.21783, saving model to weights-improvement-00-0.22-test2-multitask-new.hdf5\n",
      "Epoch 00001: val_loss improved from 0.21783 to 0.21720, saving model to weights-improvement-01-0.22-test2-multitask-new.hdf5\n",
      "Epoch 00002: val_loss did not improve\n",
      "Epoch 00003: val_loss improved from 0.21720 to 0.21719, saving model to weights-improvement-03-0.22-test2-multitask-new.hdf5\n",
      "Epoch 00004: val_loss did not improve\n",
      "Epoch 00005: val_loss did not improve\n",
      "Epoch 00006: val_loss improved from 0.21719 to 0.21705, saving model to weights-improvement-06-0.22-test2-multitask-new.hdf5\n",
      "Epoch 00007: val_loss did not improve\n",
      "Epoch 00008: val_loss did not improve\n",
      "Epoch 00009: val_loss improved from 0.21705 to 0.21650, saving model to weights-improvement-09-0.22-test2-multitask-new.hdf5\n"
     ]
    }
   ],
   "source": [
    "result4 = model4.fit(ATAC_train3, train_Y,\n",
    "          epochs=10, \n",
    "          batch_size=256,\n",
    "          callbacks=callbacks_list,\n",
    "          initial_epoch=0, \n",
    "          validation_data=(ATAC_valid3, valid_Y),\n",
    "          verbose=0\n",
    "          )"
   ]
  },
  {
   "cell_type": "markdown",
   "metadata": {},
   "source": [
    "# Plotting the learning progress"
   ]
  },
  {
   "cell_type": "code",
   "execution_count": 87,
   "metadata": {
    "collapsed": false
   },
   "outputs": [
    {
     "data": {
      "text/plain": [
       "<matplotlib.legend.Legend at 0x7fea98381e10>"
      ]
     },
     "execution_count": 87,
     "metadata": {},
     "output_type": "execute_result"
    },
    {
     "data": {
      "image/png": "[encoded data removed]",
      "text/plain": [
       "<matplotlib.figure.Figure at 0x7fea984eb3d0>"
      ]
     },
     "metadata": {},
     "output_type": "display_data"
    }
   ],
   "source": [
    "# learning path\n",
    "plt.figure(figsize=(6,3))\n",
    "plt.subplot(\"121\")\n",
    "plt.plot(range(len(result.history[\"loss\"])), result.history[\"loss\"], label=\"train_loss\")\n",
    "plt.plot(range(len(result.history[\"val_loss\"])), result.history[\"val_loss\"], label=\"val_loss\")\n",
    "plt.xlabel(\"epochs\")\n",
    "plt.ylabel(\"logloss\")\n",
    "plt.legend()\n",
    "\n",
    "plt.subplot(\"122\")\n",
    "plt.plot(range(len(result.history[\"acc\"])), result.history[\"acc\"], label=\"train_acc\")\n",
    "plt.plot(range(len(result.history[\"val_acc\"])), result.history[\"val_acc\"], label=\"val_acc\")\n",
    "plt.xlabel(\"epochs\")\n",
    "plt.ylabel(\"accuracy\")\n",
    "plt.legend()"
   ]
  },
  {
   "cell_type": "code",
   "execution_count": 88,
   "metadata": {
    "collapsed": false
   },
   "outputs": [
    {
     "data": {
      "text/plain": [
       "<matplotlib.legend.Legend at 0x7fea8e9cc6d0>"
      ]
     },
     "execution_count": 88,
     "metadata": {},
     "output_type": "execute_result"
    },
    {
     "data": {
      "image/png": "[encoded data removed]",
      "text/plain": [
       "<matplotlib.figure.Figure at 0x7fea8eaa3e90>"
      ]
     },
     "metadata": {},
     "output_type": "display_data"
    }
   ],
   "source": [
    "# learning path\n",
    "plt.figure(figsize=(6,3))\n",
    "plt.subplot(\"121\")\n",
    "plt.plot(range(len(result2.history[\"loss\"])), result2.history[\"loss\"], label=\"train_loss\")\n",
    "plt.plot(range(len(result2.history[\"val_loss\"])), result2.history[\"val_loss\"], label=\"val_loss\")\n",
    "plt.xlabel(\"epochs\")\n",
    "plt.ylabel(\"logloss\")\n",
    "plt.legend()\n",
    "\n",
    "plt.subplot(\"122\")\n",
    "plt.plot(range(len(result2.history[\"acc\"])), result2.history[\"acc\"], label=\"train_acc\")\n",
    "plt.plot(range(len(result2.history[\"val_acc\"])), result2.history[\"val_acc\"], label=\"val_acc\")\n",
    "plt.xlabel(\"epochs\")\n",
    "plt.ylabel(\"accuracy\")\n",
    "plt.legend()"
   ]
  },
  {
   "cell_type": "code",
   "execution_count": 46,
   "metadata": {
    "collapsed": false
   },
   "outputs": [
    {
     "data": {
      "text/plain": [
       "<matplotlib.legend.Legend at 0x7f983b736a50>"
      ]
     },
     "execution_count": 46,
     "metadata": {},
     "output_type": "execute_result"
    },
    {
     "data": {
      "image/png": "[encoded data removed]",
      "text/plain": [
       "<matplotlib.figure.Figure at 0x7f9838c10f50>"
      ]
     },
     "metadata": {},
     "output_type": "display_data"
    }
   ],
   "source": [
    "# learning path\n",
    "plt.figure(figsize=(6,3))\n",
    "plt.subplot(\"121\")\n",
    "plt.plot(range(len(result3.history[\"loss\"])), result3.history[\"loss\"], label=\"train_loss\")\n",
    "plt.plot(range(len(result3.history[\"val_loss\"])), result3.history[\"val_loss\"], label=\"val_loss\")\n",
    "plt.xlabel(\"epochs\")\n",
    "plt.ylabel(\"logloss\")\n",
    "plt.legend()\n",
    "\n",
    "plt.subplot(\"122\")\n",
    "plt.plot(range(len(result3.history[\"acc\"])), result3.history[\"acc\"], label=\"train_acc\")\n",
    "plt.plot(range(len(result3.history[\"val_acc\"])), result3.history[\"val_acc\"], label=\"val_acc\")\n",
    "plt.xlabel(\"epochs\")\n",
    "plt.ylabel(\"accuracy\")\n",
    "plt.legend()"
   ]
  },
  {
   "cell_type": "code",
   "execution_count": null,
   "metadata": {
    "collapsed": true
   },
   "outputs": [],
   "source": [
    "# learning path\n",
    "plt.figure(figsize=(6,3))\n",
    "plt.subplot(\"121\")\n",
    "plt.plot(range(len(result4.history[\"loss\"])), result4.history[\"loss\"], label=\"train_loss\")\n",
    "plt.plot(range(len(result4.history[\"val_loss\"])), result4.history[\"val_loss\"], label=\"val_loss\")\n",
    "plt.xlabel(\"epochs\")\n",
    "plt.ylabel(\"logloss\")\n",
    "plt.legend()\n",
    "\n",
    "plt.subplot(\"122\")\n",
    "plt.plot(range(len(result4.history[\"acc\"])), result4.history[\"acc\"], label=\"train_acc\")\n",
    "plt.plot(range(len(result4.history[\"val_acc\"])), result4.history[\"val_acc\"], label=\"val_acc\")\n",
    "plt.xlabel(\"epochs\")\n",
    "plt.ylabel(\"accuracy\")\n",
    "plt.legend()"
   ]
  },
  {
   "cell_type": "code",
   "execution_count": 27,
   "metadata": {
    "collapsed": false
   },
   "outputs": [
    {
     "name": "stdout",
     "output_type": "stream",
     "text": [
      "Average AUC ROC (ATAC) 0.830472955568\n",
      "Average AUC ROC (DeepSea) 0.827247863487\n",
      "Average AUC ROC (test) 0.498342036257\n"
     ]
    }
   ],
   "source": [
    "atac = []\n",
    "deep = []\n",
    "test = []\n",
    "for index in range(91):\n",
    "    truth = test_Y[:, index]\n",
    "    pred1 = atac_prediction[:, index]\n",
    "    pred2 = deep_prediction[:, index]\n",
    "    pred3 = test_prediction[:, index]\n",
    "    atac.append(roc_auc_score(truth, pred1))\n",
    "    deep.append(roc_auc_score(truth, pred2))\n",
    "    test.append(roc_auc_score(truth, pred3))\n",
    "    \n",
    "print \"Average AUC ROC (ATAC)\", np.mean(atac)\n",
    "print \"Average AUC ROC (DeepSea)\", np.mean(deep)\n",
    "print \"Average AUC ROC (test)\", np.mean(test)"
   ]
  },
  {
   "cell_type": "markdown",
   "metadata": {},
   "source": [
    "Using PR curve"
   ]
  },
  {
   "cell_type": "code",
   "execution_count": 30,
   "metadata": {
    "collapsed": false
   },
   "outputs": [
    {
     "name": "stdout",
     "output_type": "stream",
     "text": [
      "Average AUC ROC (ATAC) 0.330233652129\n",
      "Average AUC ROC (DeepSea) 0.325685134516\n",
      "Average AUC ROC (test) 0.0686545066807\n"
     ]
    }
   ],
   "source": [
    "atacpr = []\n",
    "deeppr = []\n",
    "testpr = []\n",
    "for index in range(91):\n",
    "    truth = test_Y[:, index]\n",
    "    pred1 = atac_prediction[:, index]\n",
    "    pred2 = deep_prediction[:, index]\n",
    "    pred3 = test_prediction[:, index]\n",
    "    atacpr.append(average_precision_score(truth, pred1))\n",
    "    deeppr.append(average_precision_score(truth, pred2))\n",
    "    testpr.append(average_precision_score(truth, pred3))\n",
    "    \n",
    "print \"Average AUC ROC (ATAC)\", np.mean(atacpr)\n",
    "print \"Average AUC ROC (DeepSea)\", np.mean(deeppr)\n",
    "print \"Average AUC ROC (test)\", np.mean(testpr)"
   ]
  },
  {
   "cell_type": "markdown",
   "metadata": {
    "collapsed": true
   },
   "source": [
    "# The double-arm model\n",
    "\n",
    "Here is the double arm model.  \n",
    "We train the model by first training the ATAC-seq only prediction model and DNA-sequence only models. Then, we freeze the convolution weights on ATACseq and DNA models and combine the outputs from the two convolution layers using standard dense layer network.  \n",
    "Finally, the model is fine tuned afterwards with SGD by unfreezing the CNN weights."
   ]
  },
  {
   "cell_type": "code",
   "execution_count": 104,
   "metadata": {
    "collapsed": true
   },
   "outputs": [],
   "source": [
    "def DeepSEA_intermediate(weights_path, k=14):\n",
    "    nkernels = [160,240,480]\n",
    "    in_size = (1,200,4)\n",
    "    l2_lam = 5e-07 \n",
    "    l1_lam = 1e-08 \n",
    "\n",
    "    model = Sequential()\n",
    "    model.add(Conv2D(nkernels[0], kernel_size=(1,8), strides=(1,1), padding='same', input_shape=in_size, kernel_regularizer=regularizers.l2(l2_lam)))\n",
    "    model.add(BatchNormalization())    \n",
    "    model.add(Activation('relu'))\n",
    "    model.add(MaxPooling2D(pool_size=(1,4), strides=(1,4)))\n",
    "    model.add(Dropout(0.2))\n",
    "\n",
    "    model.add(Conv2D(nkernels[1], kernel_size=(1,8), strides=(1,1), padding='same', kernel_regularizer=regularizers.l2(l2_lam)))\n",
    "    model.add(BatchNormalization())    \n",
    "    model.add(Activation('relu'))\n",
    "    model.add(MaxPooling2D(pool_size=(1,4), strides=(1,4)))\n",
    "    model.add(Dropout(0.2))\n",
    "\n",
    "    model.add(Conv2D(nkernels[1], kernel_size=(1,8), strides=(1,1), padding='same', kernel_regularizer=regularizers.l2(l2_lam)))\n",
    "    model.add(BatchNormalization())    \n",
    "    model.add(Activation('relu'))\n",
    "    model.add(Dropout(0.5))\n",
    "    \n",
    "    #Loading pretrained vgg16 weights.\n",
    "    if weights_path:\n",
    "        fi = h5py.File(weights_path)\n",
    "        f = fi['model_weights']\n",
    "        layer_names = [n.decode('utf8') for n in f.attrs['layer_names']][:k]\n",
    "        \n",
    "        #going through all layers.\n",
    "        count = 0\n",
    "        for l in layer_names:\n",
    "            g = f[l]\n",
    "            weight_names = [n.decode('utf8') for n in g.attrs['weight_names']]\n",
    "            weights = [g[weight_name] for weight_name in weight_names]\n",
    "            model.layers[count].set_weights(weights)\n",
    "            #print \"Loading weights for: \", model.layers[count]\n",
    "            count += 1\n",
    "            \n",
    "        fi.close()\n",
    "    \n",
    "    return model"
   ]
  },
  {
   "cell_type": "code",
   "execution_count": 105,
   "metadata": {
    "collapsed": true
   },
   "outputs": [],
   "source": [
    "# Getting the activations from last layer\n",
    "def ATAC_intermediate(weights_path, k=14):\n",
    "    nkernels = [160,240,480]\n",
    "    in_size = (1,200,2)\n",
    "    l2_lam = 5e-07 \n",
    "    l1_lam = 1e-08 \n",
    "\n",
    "    model = Sequential()\n",
    "    model.add(Conv2D(nkernels[0], kernel_size=(1,8), strides=(1,1), padding='same', input_shape=in_size, kernel_regularizer=regularizers.l2(l2_lam)))\n",
    "    model.add(BatchNormalization())    \n",
    "    model.add(Activation('relu'))\n",
    "    model.add(MaxPooling2D(pool_size=(1,4), strides=(1,4)))\n",
    "    model.add(Dropout(0.2))\n",
    "\n",
    "    model.add(Conv2D(nkernels[1], kernel_size=(1,8), strides=(1,1), padding='same', kernel_regularizer=regularizers.l2(l2_lam)))\n",
    "    model.add(BatchNormalization())    \n",
    "    model.add(Activation('relu'))\n",
    "    model.add(MaxPooling2D(pool_size=(1,4), strides=(1,4)))\n",
    "    model.add(Dropout(0.2))\n",
    "\n",
    "    model.add(Conv2D(nkernels[1], kernel_size=(1,8), strides=(1,1), padding='same', kernel_regularizer=regularizers.l2(l2_lam)))\n",
    "    model.add(BatchNormalization())    \n",
    "    model.add(Activation('relu'))\n",
    "    model.add(Dropout(0.5))\n",
    "    \n",
    "    #Loading pretrained vgg16 weights.\n",
    "    if weights_path:\n",
    "        fi = h5py.File(weights_path)\n",
    "        f = fi['model_weights']\n",
    "        layer_names = [n.decode('utf8') for n in f.attrs['layer_names']][:k]\n",
    "        \n",
    "        #going through all layers.\n",
    "        count = 0\n",
    "        for l in layer_names:\n",
    "            g = f[l]\n",
    "            weight_names = [n.decode('utf8') for n in g.attrs['weight_names']]\n",
    "            weights = [g[weight_name] for weight_name in weight_names]\n",
    "            model.layers[count].set_weights(weights)\n",
    "            #print \"Loading weights for: \", model.layers[count]\n",
    "            count += 1\n",
    "            \n",
    "        fi.close()\n",
    "    \n",
    "    return model"
   ]
  },
  {
   "cell_type": "code",
   "execution_count": 46,
   "metadata": {
    "collapsed": false
   },
   "outputs": [],
   "source": [
    "def ATACPeak_doublearm1(deepweights, atacweights, denseweights, k=14):\n",
    "    nkernels = [160,240,480]\n",
    "    in_size1 = (1,200,4)\n",
    "    in_size2 = (1,200,2)\n",
    "    l2_lam = 5e-07 \n",
    "    l1_lam = 1e-08 \n",
    "\n",
    "    model1 = Sequential()\n",
    "    model1.add(Conv2D(nkernels[0], kernel_size=(1,8), strides=(1,1), padding='same', input_shape=in_size1, kernel_regularizer=regularizers.l2(l2_lam)))\n",
    "    model1.add(BatchNormalization())    \n",
    "    model1.add(Activation('relu'))\n",
    "    model1.add(MaxPooling2D(pool_size=(1,4), strides=(1,4)))\n",
    "    model1.add(Dropout(0.2))\n",
    "\n",
    "    model1.add(Conv2D(nkernels[1], kernel_size=(1,8), strides=(1,1), padding='same', kernel_regularizer=regularizers.l2(l2_lam)))\n",
    "    model1.add(BatchNormalization())    \n",
    "    model1.add(Activation('relu'))\n",
    "    model1.add(MaxPooling2D(pool_size=(1,4), strides=(1,4)))\n",
    "    model1.add(Dropout(0.2))\n",
    "\n",
    "    model1.add(Conv2D(nkernels[1], kernel_size=(1,8), strides=(1,1), padding='same', kernel_regularizer=regularizers.l2(l2_lam)))\n",
    "    model1.add(BatchNormalization())    \n",
    "    model1.add(Activation('relu'))\n",
    "    model1.add(Dropout(0.5))\n",
    "    \n",
    "    if deepweights:\n",
    "        fi = h5py.File(deepweights)\n",
    "        f = fi['model_weights']\n",
    "        layer_names = [n.decode('utf8') for n in f.attrs['layer_names']][:k]\n",
    "\n",
    "        #going through all layers.\n",
    "        count = 0\n",
    "        for l in layer_names:\n",
    "            g = f[l]\n",
    "            weight_names = [n.decode('utf8') for n in g.attrs['weight_names']]\n",
    "            weights = [g[weight_name] for weight_name in weight_names]\n",
    "            model1.layers[count].set_weights(weights)\n",
    "            #print \"Loading weights for: \", model1.layers[count]\n",
    "            count += 1\n",
    "\n",
    "        fi.close()\n",
    "\n",
    "    model2 = Sequential()\n",
    "    model2.add(Conv2D(nkernels[0], kernel_size=(1,8), strides=(1,1), padding='same', input_shape=in_size2, kernel_regularizer=regularizers.l2(l2_lam)))\n",
    "    model2.add(BatchNormalization())    \n",
    "    model2.add(Activation('relu'))\n",
    "    model2.add(MaxPooling2D(pool_size=(1,4), strides=(1,4)))\n",
    "    model2.add(Dropout(0.2))\n",
    "\n",
    "    model2.add(Conv2D(nkernels[1], kernel_size=(1,8), strides=(1,1), padding='same', kernel_regularizer=regularizers.l2(l2_lam)))\n",
    "    model2.add(BatchNormalization())    \n",
    "    model2.add(Activation('relu'))\n",
    "    model2.add(MaxPooling2D(pool_size=(1,4), strides=(1,4)))\n",
    "    model2.add(Dropout(0.2))\n",
    "\n",
    "    model2.add(Conv2D(nkernels[1], kernel_size=(1,8), strides=(1,1), padding='same', kernel_regularizer=regularizers.l2(l2_lam)))\n",
    "    model2.add(BatchNormalization())    \n",
    "    model2.add(Activation('relu'))\n",
    "    model2.add(Dropout(0.5))\n",
    "    \n",
    "    if atacweights:\n",
    "        fi = h5py.File(atacweights)\n",
    "        f = fi['model_weights']\n",
    "        layer_names = [n.decode('utf8') for n in f.attrs['layer_names']][:k]\n",
    "\n",
    "        #going through all layers.\n",
    "        count = 0\n",
    "        for l in layer_names:\n",
    "            g = f[l]\n",
    "            weight_names = [n.decode('utf8') for n in g.attrs['weight_names']]\n",
    "            weights = [g[weight_name] for weight_name in weight_names]\n",
    "            model2.layers[count].set_weights(weights)\n",
    "            #print \"Loading weights for: \", model2.layers[count]\n",
    "            count += 1\n",
    "\n",
    "    \n",
    "    model = Sequential()\n",
    "    \n",
    "    model.add(Merge([model1, model2], mode = 'concat'))\n",
    "    \n",
    "    model.add(Flatten())\n",
    "    model.add(Dense(919, kernel_regularizer=regularizers.l1(l1_lam)))\n",
    "    model.add(Activation('relu'))\n",
    "    model.add(Dense(91, kernel_regularizer=regularizers.l1(l1_lam)))\n",
    "    model.add(Activation('sigmoid'))\n",
    "    \n",
    "    if denseweights:\n",
    "        fi = h5py.File(denseweights)\n",
    "        f = fi['model_weights']\n",
    "        layer_names = [n.decode('utf8') for n in f.attrs['layer_names']]\n",
    "\n",
    "        #going through all layers.\n",
    "        count = 1\n",
    "        for l in layer_names:\n",
    "            #print \"Loading weights for: \", model.layers[count]\n",
    "            g = f[l]\n",
    "            weight_names = [n.decode('utf8') for n in g.attrs['weight_names']]\n",
    "            weights = [g[weight_name] for weight_name in weight_names]\n",
    "            model.layers[count].set_weights(weights)\n",
    "            count += 1\n",
    "\n",
    "    return model"
   ]
  },
  {
   "cell_type": "code",
   "execution_count": 9,
   "metadata": {
    "collapsed": true
   },
   "outputs": [],
   "source": [
    "def DenseModel():\n",
    "    l1_lam = 1e-08 \n",
    "    \n",
    "    model = Sequential()\n",
    "    model.add(Flatten(input_shape=[1,12,480]))\n",
    "    model.add(Dense(919, kernel_regularizer=regularizers.l1(l1_lam)))\n",
    "    model.add(Activation('relu'))\n",
    "    model.add(Dense(91, kernel_regularizer=regularizers.l1(l1_lam)))\n",
    "    model.add(Activation('sigmoid'))\n",
    "    \n",
    "    return model"
   ]
  },
  {
   "cell_type": "code",
   "execution_count": 108,
   "metadata": {
    "collapsed": false
   },
   "outputs": [],
   "source": [
    "intermediate_model1  = DeepSEA_intermediate(\"deepsea.hdf5\")\n",
    "intermediate_model2  = ATAC_intermediate(\"atactest-binary.hdf5\")"
   ]
  },
  {
   "cell_type": "code",
   "execution_count": 137,
   "metadata": {
    "collapsed": true
   },
   "outputs": [],
   "source": [
    "train_interm1 = intermediate_model1.predict(train_X)\n",
    "train_interm2 = intermediate_model2.predict(ATAC_train3)"
   ]
  },
  {
   "cell_type": "code",
   "execution_count": 138,
   "metadata": {
    "collapsed": false
   },
   "outputs": [],
   "source": [
    "test_interm1 = intermediate_model1.predict(test_X)\n",
    "test_interm2 = intermediate_model2.predict(ATAC_test3)"
   ]
  },
  {
   "cell_type": "code",
   "execution_count": 139,
   "metadata": {
    "collapsed": true
   },
   "outputs": [],
   "source": [
    "valid_interm1 = intermediate_model1.predict(valid_X)\n",
    "valid_interm2 = intermediate_model2.predict(ATAC_valid3)"
   ]
  },
  {
   "cell_type": "code",
   "execution_count": 164,
   "metadata": {
    "collapsed": true
   },
   "outputs": [],
   "source": [
    "train_X_interm = np.concatenate([train_interm1, train_interm2], axis=3)\n",
    "test_X_interm = np.concatenate([test_interm1, test_interm2], axis=3)\n",
    "valid_X_interm = np.concatenate([valid_interm1, valid_interm2], axis=3)"
   ]
  },
  {
   "cell_type": "code",
   "execution_count": 182,
   "metadata": {
    "collapsed": false
   },
   "outputs": [],
   "source": [
    "np.save(\"traininterm\", train_X_interm)\n",
    "np.save(\"testinterm\", test_X_interm)\n",
    "np.save(\"validinterm\", valid_X_interm)"
   ]
  },
  {
   "cell_type": "code",
   "execution_count": 10,
   "metadata": {
    "collapsed": false
   },
   "outputs": [],
   "source": [
    "dense = DenseModel()"
   ]
  },
  {
   "cell_type": "code",
   "execution_count": 11,
   "metadata": {
    "collapsed": true
   },
   "outputs": [],
   "source": [
    "dense.compile(optimizer='adam',\n",
    "              loss='binary_crossentropy',\n",
    "              metrics=['accuracy'])"
   ]
  },
  {
   "cell_type": "code",
   "execution_count": 12,
   "metadata": {
    "collapsed": true
   },
   "outputs": [],
   "source": [
    "filepath=\"weights-improvement-{epoch:02d}-{val_loss:.2f}-dense-multitask-new.hdf5\"\n",
    "checkpoint = ModelCheckpoint(filepath, monitor='val_loss', verbose=1, save_best_only=True, mode='min')\n",
    "callbacks_list = [checkpoint]"
   ]
  },
  {
   "cell_type": "code",
   "execution_count": 13,
   "metadata": {
    "collapsed": false,
    "scrolled": true
   },
   "outputs": [
    {
     "name": "stdout",
     "output_type": "stream",
     "text": [
      "Epoch 00000: val_loss improved from inf to 0.17524, saving model to weights-improvement-00-0.18-dense-multitask-new.hdf5\n",
      "Epoch 00001: val_loss improved from 0.17524 to 0.17485, saving model to weights-improvement-01-0.17-dense-multitask-new.hdf5\n",
      "Epoch 00002: val_loss improved from 0.17485 to 0.17480, saving model to weights-improvement-02-0.17-dense-multitask-new.hdf5\n",
      "Epoch 00003: val_loss improved from 0.17480 to 0.17473, saving model to weights-improvement-03-0.17-dense-multitask-new.hdf5\n",
      "Epoch 00004: val_loss did not improve\n",
      "Epoch 00005: val_loss did not improve\n",
      "Epoch 00006: val_loss did not improve\n",
      "Epoch 00007: val_loss did not improve\n",
      "Epoch 00008: val_loss did not improve\n",
      "Epoch 00009: val_loss did not improve\n",
      "Epoch 00010: val_loss did not improve\n",
      "Epoch 00011: val_loss did not improve\n",
      "Epoch 00012: val_loss did not improve\n",
      "Epoch 00013: val_loss did not improve\n",
      "Epoch 00014: val_loss did not improve\n",
      "Epoch 00015: val_loss did not improve\n",
      "Epoch 00016: val_loss did not improve\n",
      "Epoch 00017: val_loss did not improve\n",
      "Epoch 00018: val_loss did not improve\n",
      "Epoch 00019: val_loss did not improve\n"
     ]
    }
   ],
   "source": [
    "result5 = dense.fit(train_X_interm, train_Y,\n",
    "          epochs=20, \n",
    "          batch_size=256,\n",
    "          callbacks=callbacks_list,\n",
    "          initial_epoch=0, \n",
    "          validation_data=(valid_X_interm, valid_Y),\n",
    "          verbose=0\n",
    "          )"
   ]
  },
  {
   "cell_type": "markdown",
   "metadata": {},
   "source": [
    "Fine tuning the model with small learning rate on SGD"
   ]
  },
  {
   "cell_type": "code",
   "execution_count": 14,
   "metadata": {
    "collapsed": false
   },
   "outputs": [
    {
     "name": "stderr",
     "output_type": "stream",
     "text": [
      "/home/hiranumn/anaconda2/lib/python2.7/site-packages/ipykernel/__main__.py:79: UserWarning: The `Merge` layer is deprecated and will be removed after 08/2017. Use instead layers from `keras.layers.merge`, e.g. `add`, `concatenate`, etc.\n"
     ]
    }
   ],
   "source": [
    "doublearm = ATACPeak_doublearm(\"deepsea.hdf5\", \"atactest-binary.hdf5\", \"dense.hdf5\")"
   ]
  },
  {
   "cell_type": "code",
   "execution_count": 15,
   "metadata": {
    "collapsed": false
   },
   "outputs": [],
   "source": [
    "doublearm.compile(optimizer=optimizers.SGD(lr=1e-4, momentum=0.9),\n",
    "              loss='binary_crossentropy',\n",
    "              metrics=['accuracy'])"
   ]
  },
  {
   "cell_type": "code",
   "execution_count": 16,
   "metadata": {
    "collapsed": true
   },
   "outputs": [],
   "source": [
    "filepath=\"weights-improvement-{epoch:02d}-{val_loss:.2f}-doublearm-multitask-new.hdf5\"\n",
    "checkpoint = ModelCheckpoint(filepath, monitor='val_loss', verbose=1, save_best_only=True, mode='min')\n",
    "callbacks_list = [checkpoint]"
   ]
  },
  {
   "cell_type": "code",
   "execution_count": null,
   "metadata": {
    "collapsed": false
   },
   "outputs": [
    {
     "name": "stdout",
     "output_type": "stream",
     "text": [
      "Epoch 00000: val_loss improved from inf to 0.17974, saving model to weights-improvement-00-0.18-doublearm-multitask-new.hdf5\n",
      "Epoch 00001: val_loss improved from 0.17974 to 0.17944, saving model to weights-improvement-01-0.18-doublearm-multitask-new.hdf5\n"
     ]
    }
   ],
   "source": [
    "result6 = doublearm.fit([train_X, ATAC_train3], train_Y,\n",
    "          epochs=20, \n",
    "          batch_size=256,\n",
    "          callbacks=callbacks_list,\n",
    "          initial_epoch=0, \n",
    "          validation_data=([valid_X, ATAC_valid3], valid_Y),\n",
    "          verbose=0\n",
    "          )"
   ]
  },
  {
   "cell_type": "code",
   "execution_count": 47,
   "metadata": {
    "collapsed": false
   },
   "outputs": [],
   "source": [
    "fi = h5py.File(\"./doublearm.hdf5\")\n",
    "f = fi['model_weights']\n",
    "layer_names = [n.decode('utf8') for n in f.attrs['layer_names']]"
   ]
  },
  {
   "cell_type": "code",
   "execution_count": 23,
   "metadata": {
    "collapsed": false,
    "scrolled": false
   },
   "outputs": [],
   "source": [
    "def ATACPeak_doublearm2(weights):\n",
    "    nkernels = [160,240,480]\n",
    "    in_size1 = (1,200,4)\n",
    "    in_size2 = (1,200,2)\n",
    "    l2_lam = 5e-07 \n",
    "    l1_lam = 1e-08 \n",
    "\n",
    "    model1 = Sequential()\n",
    "    model1.add(Conv2D(nkernels[0], kernel_size=(1,8), strides=(1,1), padding='same', input_shape=in_size1, kernel_regularizer=regularizers.l2(l2_lam)))\n",
    "    model1.add(BatchNormalization())    \n",
    "    model1.add(Activation('relu'))\n",
    "    model1.add(MaxPooling2D(pool_size=(1,4), strides=(1,4)))\n",
    "    model1.add(Dropout(0.2))\n",
    "\n",
    "    model1.add(Conv2D(nkernels[1], kernel_size=(1,8), strides=(1,1), padding='same', kernel_regularizer=regularizers.l2(l2_lam)))\n",
    "    model1.add(BatchNormalization())    \n",
    "    model1.add(Activation('relu'))\n",
    "    model1.add(MaxPooling2D(pool_size=(1,4), strides=(1,4)))\n",
    "    model1.add(Dropout(0.2))\n",
    "\n",
    "    model1.add(Conv2D(nkernels[1], kernel_size=(1,8), strides=(1,1), padding='same', kernel_regularizer=regularizers.l2(l2_lam)))\n",
    "    model1.add(BatchNormalization())    \n",
    "    model1.add(Activation('relu'))\n",
    "    model1.add(Dropout(0.5))\n",
    "\n",
    "    model2 = Sequential()\n",
    "    model2.add(Conv2D(nkernels[0], kernel_size=(1,8), strides=(1,1), padding='same', input_shape=in_size2, kernel_regularizer=regularizers.l2(l2_lam)))\n",
    "    model2.add(BatchNormalization())    \n",
    "    model2.add(Activation('relu'))\n",
    "    model2.add(MaxPooling2D(pool_size=(1,4), strides=(1,4)))\n",
    "    model2.add(Dropout(0.2))\n",
    "\n",
    "    model2.add(Conv2D(nkernels[1], kernel_size=(1,8), strides=(1,1), padding='same', kernel_regularizer=regularizers.l2(l2_lam)))\n",
    "    model2.add(BatchNormalization())    \n",
    "    model2.add(Activation('relu'))\n",
    "    model2.add(MaxPooling2D(pool_size=(1,4), strides=(1,4)))\n",
    "    model2.add(Dropout(0.2))\n",
    "\n",
    "    model2.add(Conv2D(nkernels[1], kernel_size=(1,8), strides=(1,1), padding='same', kernel_regularizer=regularizers.l2(l2_lam)))\n",
    "    model2.add(BatchNormalization())    \n",
    "    model2.add(Activation('relu'))\n",
    "    model2.add(Dropout(0.5))\n",
    "\n",
    "    model = Sequential()\n",
    "\n",
    "    model.add(Merge([model1, model2], mode = 'concat'))\n",
    "\n",
    "    model.add(Flatten())\n",
    "    model.add(Dense(919, kernel_regularizer=regularizers.l1(l1_lam)))\n",
    "    model.add(Activation('relu'))\n",
    "    model.add(Dense(91, kernel_regularizer=regularizers.l1(l1_lam)))\n",
    "    model.add(Activation('sigmoid'))\n",
    "\n",
    "    if True:\n",
    "        fi = h5py.File(weights)\n",
    "        f = fi['model_weights']\n",
    "        layer_names = [n.decode('utf8') for n in f.attrs['layer_names']]\n",
    "\n",
    "        #going through all layers.\n",
    "        count = 0\n",
    "        seq = model.layers[0].layers[0]\n",
    "        temp = 0\n",
    "        for l in layer_names:\n",
    "            if count == 14:\n",
    "                seq = model.layers[0].layers[count/14]\n",
    "                temp += 1\n",
    "            elif count == 28:\n",
    "                seq = model\n",
    "                count += 1\n",
    "                temp += 1\n",
    "            #print count\n",
    "            #print \"Loading weights for: \", seq.layers[count-14*temp]\n",
    "            g = f[l]\n",
    "            #print weights\n",
    "            weight_names = [n.decode('utf8') for n in g.attrs['weight_names']]\n",
    "            weights = [g[weight_name] for weight_name in weight_names]\n",
    "            seq.layers[count-temp*14].set_weights(weights)\n",
    "            count += 1\n",
    "            \n",
    "    return model"
   ]
  },
  {
   "cell_type": "markdown",
   "metadata": {},
   "source": [
    "# Evaluating the two-arm model with average ROC and PR\n",
    "\n",
    "In this section I plot the average ROC and PR for 91 targets with different models.  \n",
    "You can see that the ATAC-peak achieves lower validation error and higher average AUPRC."
   ]
  },
  {
   "cell_type": "code",
   "execution_count": 93,
   "metadata": {
    "collapsed": false
   },
   "outputs": [
    {
     "name": "stdout",
     "output_type": "stream",
     "text": [
      "0.839204641415\n",
      "0.826539443366\n",
      "0.652021692623\n"
     ]
    }
   ],
   "source": [
    "index = 10\n",
    "atacpeak = []\n",
    "seq = []\n",
    "atac = []\n",
    "\n",
    "for index in range(91):\n",
    "    truth = test_Y[:, index]\n",
    "    \n",
    "    pred1 = prediction[:, index]\n",
    "    pred2 = prediction2[:, index]\n",
    "    pred3 = prediction3[:, index]\n",
    "\n",
    "    atacpeak.append(roc_auc_score(truth, pred1))\n",
    "    seq.append(roc_auc_score(truth, pred2))\n",
    "    atac.append(roc_auc_score(truth, pred3))\n",
    "    \n",
    "print np.mean(atacpeak)\n",
    "print np.mean(seq)\n",
    "print np.mean(atac)"
   ]
  },
  {
   "cell_type": "code",
   "execution_count": 37,
   "metadata": {
    "collapsed": false
   },
   "outputs": [
    {
     "name": "stdout",
     "output_type": "stream",
     "text": [
      "Average AUC ROC (ATAC) 0.353734883303\n",
      "Average AUC ROC (DeepSea) 0.325667436614\n",
      "Average AUC ROC (test) 0.169515744063\n",
      "Average AUC ROC (ATAC2) 0.354685567543\n",
      "Average AUC ROC (joint) 0.356715937344\n"
     ]
    }
   ],
   "source": [
    "atacpeak = []\n",
    "seq = []\n",
    "atac = []\n",
    "atac2 = []\n",
    "joint = []\n",
    "\n",
    "for index in range(91):\n",
    "    truth = test_Y[:, index]\n",
    "    \n",
    "    pred1 = prediction[:, index]\n",
    "    pred2 = prediction2[:, index]\n",
    "    pred3 = prediction3[:, index]\n",
    "    pred4 = prediction4[:, index]\n",
    "    pred5 = prediction5[:, index]\n",
    "    \n",
    "    atacpeak.append(average_precision_score(truth, pred1))\n",
    "    seq.append(average_precision_score(truth, pred2))\n",
    "    atac.append(average_precision_score(truth, pred3))\n",
    "    atac2.append(average_precision_score(truth, pred4))\n",
    "    joint.append(average_precision_score(truth, pred5))\n",
    "    \n",
    "print \"Average AUC ROC (ATAC)\", np.mean(atacpeak)\n",
    "print \"Average AUC ROC (DeepSea)\", np.mean(seq)\n",
    "print \"Average AUC ROC (test)\", np.mean(atac)\n",
    "print \"Average AUC ROC (ATAC2)\", np.mean(atac2)\n",
    "print \"Average AUC ROC (joint)\", np.mean(joint)"
   ]
  },
  {
   "cell_type": "markdown",
   "metadata": {},
   "source": [
    "# Learning curve for double arm model."
   ]
  },
  {
   "cell_type": "code",
   "execution_count": 94,
   "metadata": {
    "collapsed": false
   },
   "outputs": [
    {
     "data": {
      "text/plain": [
       "<matplotlib.legend.Legend at 0x7fef11e30090>"
      ]
     },
     "execution_count": 94,
     "metadata": {},
     "output_type": "execute_result"
    },
    {
     "data": {
      "image/png": "[encoded data removed]",
      "text/plain": [
       "<matplotlib.figure.Figure at 0x7feefde5e850>"
      ]
     },
     "metadata": {},
     "output_type": "display_data"
    }
   ],
   "source": [
    "d = load_obj(\"deepsea.history\")\n",
    "plt.figure(figsize=(6,3))\n",
    "plt.subplot(\"121\")\n",
    "plt.plot(range(len(d[\"loss\"])), d[\"loss\"], label=\"train_loss\")\n",
    "plt.plot(range(len(d[\"val_loss\"])), d[\"val_loss\"], label=\"val_loss\")\n",
    "plt.xlabel(\"epochs\")\n",
    "plt.ylabel(\"logloss\")\n",
    "plt.legend()\n",
    "\n",
    "plt.subplot(\"122\")\n",
    "plt.plot(range(len(d[\"acc\"])), d[\"acc\"], label=\"train_acc\")\n",
    "plt.plot(range(len(d[\"val_acc\"])), d[\"val_acc\"], label=\"val_acc\")\n",
    "plt.xlabel(\"epochs\")\n",
    "plt.ylabel(\"accuracy\")\n",
    "plt.legend()"
   ]
  },
  {
   "cell_type": "code",
   "execution_count": 95,
   "metadata": {
    "collapsed": false,
    "scrolled": true
   },
   "outputs": [
    {
     "data": {
      "text/plain": [
       "<matplotlib.legend.Legend at 0x7fef0ecd6b50>"
      ]
     },
     "execution_count": 95,
     "metadata": {},
     "output_type": "execute_result"
    },
    {
     "data": {
      "image/png": "[encoded data removed]",
      "text/plain": [
       "<matplotlib.figure.Figure at 0x7fef127edb10>"
      ]
     },
     "metadata": {},
     "output_type": "display_data"
    }
   ],
   "source": [
    "d = result5.history\n",
    "plt.figure(figsize=(6,3))\n",
    "plt.subplot(\"121\")\n",
    "plt.plot(range(len(d[\"loss\"])), d[\"loss\"], label=\"train_loss\")\n",
    "plt.plot(range(len(d[\"val_loss\"])), d[\"val_loss\"], label=\"val_loss\")\n",
    "plt.xlabel(\"epochs\")\n",
    "plt.ylabel(\"logloss\")\n",
    "plt.legend()\n",
    "\n",
    "plt.subplot(\"122\")\n",
    "plt.plot(range(len(d[\"acc\"])), d[\"acc\"], label=\"train_acc\")\n",
    "plt.plot(range(len(d[\"val_acc\"])), d[\"val_acc\"], label=\"val_acc\")\n",
    "plt.xlabel(\"epochs\")\n",
    "plt.ylabel(\"accuracy\")\n",
    "plt.legend()"
   ]
  }
 ],
 "metadata": {
  "kernelspec": {
   "display_name": "Python 2",
   "language": "python",
   "name": "python2"
  },
  "language_info": {
   "codemirror_mode": {
    "name": "ipython",
    "version": 2
   },
   "file_extension": ".py",
   "mimetype": "text/x-python",
   "name": "python",
   "nbconvert_exporter": "python",
   "pygments_lexer": "ipython2",
   "version": "2.7.13"
  }
 },
 "nbformat": 4,
 "nbformat_minor": 2
}
