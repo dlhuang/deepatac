{
 "cells": [
  {
   "cell_type": "code",
   "execution_count": 44,
   "metadata": {
    "collapsed": false
   },
   "outputs": [],
   "source": [
    "%matplotlib inline\n",
    "\n",
    "import sys\n",
    "sys.path.append(\"../../ee595\")\n",
    "from deepsea import *\n",
    "\n",
    "from keras.models import Sequential\n",
    "from keras.layers import Flatten, Dense, Dropout, Merge\n",
    "from keras.layers import Reshape\n",
    "from keras.layers.core import Activation\n",
    "from keras.layers.normalization import BatchNormalization\n",
    "from keras.layers.convolutional import UpSampling2D\n",
    "from keras.layers.convolutional import Conv2D, MaxPooling2D\n",
    "from keras.layers.core import Flatten\n",
    "from keras.optimizers import SGD\n",
    "from keras import regularizers\n",
    "from keras.callbacks import ModelCheckpoint\n",
    "from keras.layers import Concatenate\n",
    "\n",
    "from sklearn.preprocessing import binarize\n",
    "from sklearn.metrics import average_precision_score\n",
    "from sklearn.metrics import roc_auc_score, roc_curve\n",
    "from sklearn.metrics import precision_recall_curve\n",
    "from sklearn.metrics import average_precision_score\n",
    "from keras import optimizers\n",
    "\n",
    "import numpy as np\n",
    "import scipy as sp\n",
    "import scipy.io as sio\n",
    "\n",
    "import h5py\n",
    "\n",
    "import seaborn as sns\n",
    "import matplotlib.pyplot as plt\n",
    "\n",
    "import pickle\n",
    "from keras.models import load_model\n",
    "import keras.models\n",
    "\n",
    "sys.path.append(\"../../IntegratedGradients\")\n",
    "from IntegratedGradients import integrated_gradients\n",
    "from keras.models import load_model"
   ]
  },
  {
   "cell_type": "markdown",
   "metadata": {},
   "source": [
    "# Load data"
   ]
  },
  {
   "cell_type": "code",
   "execution_count": 2,
   "metadata": {
    "collapsed": true
   },
   "outputs": [],
   "source": [
    "K562y = np.load(\"processed_data_K562/testy.npy\")\n",
    "K562x = np.load(\"processed_data_K562/testx.npy\")\n",
    "\n",
    "GM12878y = np.load(\"processed_data_gm12878/testy.npy\")\n",
    "GM12878x = np.load(\"processed_data_gm12878/testx.npy\")"
   ]
  },
  {
   "cell_type": "code",
   "execution_count": 3,
   "metadata": {
    "collapsed": false
   },
   "outputs": [],
   "source": [
    "testindex = np.load(\"processed_data_K562/testindex.npy\")\n",
    "K562index = testindex[:len(testindex)/2]\n",
    "\n",
    "testindex = np.load(\"processed_data_gm12878/testindex.npy\")\n",
    "GM12878index = testindex[:len(testindex)/2]"
   ]
  },
  {
   "cell_type": "code",
   "execution_count": 4,
   "metadata": {
    "collapsed": true
   },
   "outputs": [],
   "source": [
    "atac = np.load(\"processed_data_K562/atactest2.npy\")\n",
    "K562atac = atac[K562index, :]\n",
    "K562atac = np.expand_dims(K562atac, 1)\n",
    "\n",
    "atac = np.load(\"processed_data_gm12878/atactest2.npy\")\n",
    "GM12878atac = atac[GM12878index, :]\n",
    "GM12878atac = np.expand_dims(GM12878atac, 1)"
   ]
  },
  {
   "cell_type": "code",
   "execution_count": 5,
   "metadata": {
    "collapsed": false
   },
   "outputs": [],
   "source": [
    "K562x2 = np.concatenate([K562x, K562atac], axis=3)\n",
    "GM12878x2 = np.concatenate([GM12878x, GM12878atac], axis=3)"
   ]
  },
  {
   "cell_type": "code",
   "execution_count": 6,
   "metadata": {
    "collapsed": false
   },
   "outputs": [
    {
     "name": "stdout",
     "output_type": "stream",
     "text": [
      "(71678, 1, 200, 6)\n",
      "(71678, 163)\n",
      "(40962, 1, 200, 6)\n",
      "(40962, 91)\n"
     ]
    }
   ],
   "source": [
    "print K562x2.shape\n",
    "print K562y.shape\n",
    "\n",
    "print GM12878x2.shape\n",
    "print GM12878y.shape"
   ]
  },
  {
   "cell_type": "markdown",
   "metadata": {},
   "source": [
    "# Getting the prediction from the models"
   ]
  },
  {
   "cell_type": "code",
   "execution_count": 7,
   "metadata": {
    "collapsed": true
   },
   "outputs": [],
   "source": [
    "deep_model_k = load_model(\"./model/deepsea_k562.hdf5\")"
   ]
  },
  {
   "cell_type": "code",
   "execution_count": 8,
   "metadata": {
    "collapsed": false
   },
   "outputs": [],
   "source": [
    "atac_model_k = load_model(\"./model/deepatac_k562.hdf5\")"
   ]
  },
  {
   "cell_type": "code",
   "execution_count": 9,
   "metadata": {
    "collapsed": true
   },
   "outputs": [],
   "source": [
    "deep_model_gm = load_model(\"./model/deepsea_gm12878.hdf5\")"
   ]
  },
  {
   "cell_type": "code",
   "execution_count": 10,
   "metadata": {
    "collapsed": true
   },
   "outputs": [],
   "source": [
    "atac_model_gm = load_model(\"./model/deepatac_gm12878.hdf5\")"
   ]
  },
  {
   "cell_type": "code",
   "execution_count": 11,
   "metadata": {
    "collapsed": true
   },
   "outputs": [],
   "source": [
    "pred_deep_k = deep_model_k.predict(K562x)"
   ]
  },
  {
   "cell_type": "code",
   "execution_count": 12,
   "metadata": {
    "collapsed": true
   },
   "outputs": [],
   "source": [
    "pred_atac_k = atac_model_k.predict(K562x2)"
   ]
  },
  {
   "cell_type": "code",
   "execution_count": 13,
   "metadata": {
    "collapsed": false
   },
   "outputs": [],
   "source": [
    "pred_deep_gm = deep_model_gm.predict(GM12878x)"
   ]
  },
  {
   "cell_type": "code",
   "execution_count": 14,
   "metadata": {
    "collapsed": true
   },
   "outputs": [],
   "source": [
    "pred_atac_gm = atac_model_gm.predict(GM12878x2)"
   ]
  },
  {
   "cell_type": "markdown",
   "metadata": {},
   "source": [
    "# Evaluating the performance"
   ]
  },
  {
   "cell_type": "code",
   "execution_count": 7,
   "metadata": {
    "collapsed": true
   },
   "outputs": [],
   "source": [
    "import os"
   ]
  },
  {
   "cell_type": "code",
   "execution_count": 8,
   "metadata": {
    "collapsed": false
   },
   "outputs": [],
   "source": [
    "celltype = \"K562\"\n",
    "\n",
    "description = [(j.split(\"|\")[1], j.split(\"|\")[0], j.split(\"|\")[2]) for j in open(\"infile.fasta.out\", \"r\").readlines()[0].rstrip().split(\",\")[2:]]\n",
    "indexes = [i for i in range(len(description)) if description[i][1] == celltype]\n",
    "factors = [(i, description[i][0]) for i in range(len(description)) if description[i][1] == celltype]\n",
    "DNASEindex = [i for i in range(len(description)) if description[i]==('DNase', celltype, 'None')][0]"
   ]
  },
  {
   "cell_type": "code",
   "execution_count": 9,
   "metadata": {
    "collapsed": false
   },
   "outputs": [],
   "source": [
    "ava_factors = list(set([i[1] for i in factors if os.path.isfile(\"../../centipede/meme_motifs/JASPAR/\"+i[1]+\".meme\")]))"
   ]
  },
  {
   "cell_type": "code",
   "execution_count": 10,
   "metadata": {
    "collapsed": false
   },
   "outputs": [],
   "source": [
    "temp = [i for i in range(len(indexes)) if os.path.isfile(\"../../centipede/meme_motifs/JASPAR/\"+description[indexes[i]][0]+\".meme\")]"
   ]
  },
  {
   "cell_type": "code",
   "execution_count": 11,
   "metadata": {
    "collapsed": false
   },
   "outputs": [],
   "source": [
    "def addsmallnoise(d, noise=10**(-4)):\n",
    "    for i in range(len(d)):\n",
    "        if d[i] == 0:\n",
    "            d[i] = np.random.random()*noise\n",
    "    return d"
   ]
  },
  {
   "cell_type": "code",
   "execution_count": 12,
   "metadata": {
    "collapsed": false
   },
   "outputs": [
    {
     "name": "stdout",
     "output_type": "stream",
     "text": [
      "('CTCF', 'K562', 'None') 2 0\n",
      "('CEBPB', 'K562', 'None') 17 1\n",
      "('CTCF', 'K562', 'None') 18 2\n",
      "('E2F6', 'K562', 'None') 20 3\n",
      "('ELF1', 'K562', 'None') 22 4\n",
      "('ETS1', 'K562', 'None') 23 5\n",
      "('FOSL1', 'K562', 'None') 24 6\n",
      "('GATA2', 'K562', 'None') 26 7\n",
      "('MEF2A', 'K562', 'None') 29 8\n",
      "('SP1', 'K562', 'None') 39 9\n",
      "('SP2', 'K562', 'None') 40 10\n",
      "('SRF', 'K562', 'None') 41 11\n",
      "('TEAD4', 'K562', 'None') 45 12\n",
      "('THAP1', 'K562', 'None') 46 13\n",
      "('YY1', 'K562', 'None') 49 14\n",
      "('YY1', 'K562', 'None') 50 15\n",
      "('ZBTB33', 'K562', 'None') 51 16\n",
      "('ZBTB7A', 'K562', 'None') 52 17\n",
      "('BHLHE40', 'K562', 'None') 58 18\n",
      "('CEBPB', 'K562', 'None') 63 19\n",
      "('CTCF', 'K562', 'None') 79 20\n",
      "('E2F4', 'K562', 'None') 80 21\n",
      "('E2F6', 'K562', 'None') 81 22\n",
      "('ELK1', 'K562', 'None') 82 23\n",
      "('IRF1', 'K562', 'IFNa30') 89 24\n",
      "('IRF1', 'K562', 'IFNa6h') 90 25\n",
      "('IRF1', 'K562', 'IFNg30') 91 26\n",
      "('IRF1', 'K562', 'IFNg6h') 92 27\n",
      "('RFX5', 'K562', 'None') 116 28\n",
      "('STAT1', 'K562', 'IFNa30') 122 29\n",
      "('STAT1', 'K562', 'IFNa6h') 123 30\n",
      "('STAT1', 'K562', 'IFNg30') 124 31\n",
      "('STAT1', 'K562', 'IFNg6h') 125 32\n",
      "('TBP', 'K562', 'None') 131 33\n",
      "('USF2', 'K562', 'None') 136 34\n",
      "('YY1', 'K562', 'None') 137 35\n",
      "('ZNF263', 'K562', 'None') 139 36\n",
      "('CTCF', 'K562', 'None') 148 37\n",
      "('CTCF', 'K562', 'None') 150 38\n"
     ]
    }
   ],
   "source": [
    "count = 0\n",
    "for i in temp:\n",
    "    print description[indexes[i]], i, count\n",
    "    count += 1"
   ]
  },
  {
   "cell_type": "code",
   "execution_count": 523,
   "metadata": {
    "collapsed": false
   },
   "outputs": [
    {
     "name": "stdout",
     "output_type": "stream",
     "text": [
      "2\n",
      "('CTCF', 'K562', 'None')\n",
      "CTCF\n",
      "71678 71678\n",
      "DeepSEA: 0.517556577389\n",
      "DeepATAC: 0.588162663519\n",
      "FIMO+ATAC peaks: 0.418128483708\n",
      "0.101676944111\n"
     ]
    },
    {
     "data": {
      "image/png": "[encoded data removed]",
      "text/plain": [
       "<matplotlib.figure.Figure at 0x7fb58d8667d0>"
      ]
     },
     "metadata": {},
     "output_type": "display_data"
    }
   ],
   "source": [
    "if celltype == \"K562\":\n",
    "    rowindex = K562index\n",
    "    Y = K562y\n",
    "    predm1 = pred_deep_k\n",
    "    predm2 = pred_atac_k\n",
    "else:\n",
    "    rowindex = GM12878index\n",
    "    Y = GM12878y\n",
    "    predm1 = pred_deep_gm\n",
    "    predm2 = pred_atac_gm\n",
    "\n",
    "index = temp[0]\n",
    "print index\n",
    "#index = 3\n",
    "print description[indexes[index]]\n",
    "TF = description[indexes[index]][0]\n",
    "print TF\n",
    "fimo = fimodata[TF][rowindex]/np.max(fimodata[TF][rowindex])\n",
    "fimo = addsmallnoise(np.multiply(fimodata[TF][rowindex], k562[rowindex]))\n",
    "print len(fimo), len([i for i in fimo if i > 0])\n",
    "#if TF in fimodata: print len([i for i in fimo if i > 0]), \"sites identified.\"\n",
    "#if TF in fimodata: print len(rowindex), \"sites available.\"\n",
    "#print \n",
    "\n",
    "truth1 = Y[:, index]\n",
    "\n",
    "pred1 = predm1[:, index]\n",
    "pred3 = predm2[:, index]\n",
    "\n",
    "fpr1, tpr1, _ = precision_recall_curve(truth1, pred1)\n",
    "fpr3, tpr3, _ = precision_recall_curve(truth1, pred3)\n",
    "if TF in fimodata: fpr5, tpr5, _ = precision_recall_curve(truth1, fimo)\n",
    "#fpr7, tpr7, _ = precision_recall_curve(truth1, centipede[rowindex])\n",
    "\n",
    "plt.figure(figsize=(4,3))\n",
    "#a = plt.plot(tpr3, fpr3, label=\"DeepATAC\")\n",
    "b = plt.plot(tpr1, fpr1, label=\"DeepSEA\")\n",
    "if TF in fimodata: c = plt.plot(tpr5, fpr5, label=\"Fimo\")\n",
    "#plt.plot(tpr7, fpr7, label=\"Centipede\")\n",
    "#plt.plot(tpr7, fpr7, label=\"Fimo\")\n",
    "plt.xlabel(\"Recall\")\n",
    "plt.ylabel(\"Precision\")\n",
    "plt.title(celltype+\" (\"+TF+\")\")\n",
    "plt.legend([a[0],b[0],c[0]], [\"DeepATAC (\"+str(int(average_precision_score(truth1, pred3)*100)/100.0)+\")\",\n",
    "                              \"DeepSEA (\"+str(int(average_precision_score(truth1, pred1)*100)/100.0)+\")\",\n",
    "                              \"FIMO+ATAC peaks (\"+str(int(average_precision_score(truth1, fimo)*100)/100.0)+\")\"\n",
    "                             ])\n",
    "plt.legend([b[0],c[0]], [\"DeepSEA (\"+str(int(average_precision_score(truth1, pred1)*100)/100.0)+\")\",\n",
    "                              \"FIMO+ATAC peaks (\"+str(int(average_precision_score(truth1, fimo)*100)/100.0)+\")\"\n",
    "                             ])\n",
    "plt.ylim(0,1)\n",
    "plt.xlim(0,1)\n",
    "\n",
    "print \"DeepSEA:\", average_precision_score(truth1, pred1)\n",
    "print \"DeepATAC:\", average_precision_score(truth1, pred3)\n",
    "if TF in fimodata: print \"FIMO+ATAC peaks:\", average_precision_score(truth1, fimo)\n",
    "print sum(truth1)*1.0/len(truth1)\n",
    "plt.tight_layout()\n",
    "plt.savefig(\"figure\"+celltype+TF+\".png\")"
   ]
  },
  {
   "cell_type": "code",
   "execution_count": 444,
   "metadata": {
    "collapsed": false
   },
   "outputs": [
    {
     "data": {
      "text/plain": [
       "array([[ 1.        ,  0.54088464],\n",
       "       [ 0.54088464,  1.        ]])"
      ]
     },
     "execution_count": 444,
     "metadata": {},
     "output_type": "execute_result"
    }
   ],
   "source": [
    "np.corrcoef(centipede[rowindex], fimodata[\"CTCF\"][rowindex])"
   ]
  },
  {
   "cell_type": "markdown",
   "metadata": {},
   "source": [
    "Individual ROC curve"
   ]
  },
  {
   "cell_type": "code",
   "execution_count": 328,
   "metadata": {
    "collapsed": false
   },
   "outputs": [
    {
     "name": "stdout",
     "output_type": "stream",
     "text": [
      "2\n",
      "('CTCF', 'K562', 'None')\n",
      "CTCF\n",
      "36608 sites identified.\n",
      "71678 sites available.\n",
      "\n",
      "DeepSEA: 0.78714748657\n",
      "DeepATAC: 0.836016121658\n",
      "Fimo: 0.714192985246\n"
     ]
    },
    {
     "data": {
      "image/png": "[encoded data removed]",
      "text/plain": [
       "<matplotlib.figure.Figure at 0x7fb58c8018d0>"
      ]
     },
     "metadata": {},
     "output_type": "display_data"
    }
   ],
   "source": [
    "if celltype == \"K562\":\n",
    "    rowindex = K562index\n",
    "    Y = K562y\n",
    "    predm1 = pred_deep_k\n",
    "    predm2 = pred_atac_k\n",
    "else:\n",
    "    rowindex = GM12878index\n",
    "    Y = GM12878y\n",
    "    predm1 = pred_deep_gm\n",
    "    predm2 = pred_atac_gm\n",
    "\n",
    "index = temp[0]\n",
    "print index\n",
    "#index = 3\n",
    "print description[indexes[index]]\n",
    "TF = description[indexes[index]][0]\n",
    "print TF\n",
    "fimo = fimodata[TF][rowindex]/np.max(fimodata[TF][rowindex])\n",
    "if TF in fimodata: print len([i for i in fimo if i > 0]), \"sites identified.\"\n",
    "if TF in fimodata: print len(rowindex), \"sites available.\"\n",
    "print \n",
    "\n",
    "truth1 = Y[:, index]\n",
    "\n",
    "pred1 = predm1[:, index]\n",
    "pred3 = predm2[:, index]\n",
    "\n",
    "fpr1, tpr1, _ = roc_curve(truth1, pred1)\n",
    "fpr3, tpr3, _ = roc_curve(truth1, pred3)\n",
    "if TF in fimodata: fpr5, tpr5, _ = roc_curve(truth1, fimo)\n",
    "#fpr7, tpr7, _ = precision_recall_curve(truth1, fimo_pred[GM12878index])\n",
    "\n",
    "plt.figure(figsize=(4,3))\n",
    "plt.plot(fpr1, tpr1, label=\"DeepSEA\")\n",
    "plt.plot(fpr3, tpr3, label=\"DeepATAC\")\n",
    "if TF in fimodata: plt.plot(fpr5, tpr5, label=\"Fimo\")\n",
    "#plt.plot(tpr7, fpr7, label=\"Fimo\")\n",
    "plt.xlabel(\"fpr\")\n",
    "plt.ylabel(\"tpr\")\n",
    "plt.title(celltype+\" (\"+TF+\")\")\n",
    "plt.legend()\n",
    "plt.ylim(0,1)\n",
    "plt.xlim(0,1)\n",
    "\n",
    "print \"DeepSEA:\", roc_auc_score(truth1, pred1)\n",
    "print \"DeepATAC:\", roc_auc_score(truth1, pred3)\n",
    "if TF in fimodata: print \"Fimo:\", roc_auc_score(truth1, fimo)\n",
    "#print \"Fimo GM12878:\", average_precision_score(truth1, fimo_pred[GM12878index])"
   ]
  },
  {
   "cell_type": "markdown",
   "metadata": {},
   "source": [
    "# Average area under curves"
   ]
  },
  {
   "cell_type": "markdown",
   "metadata": {},
   "source": [
    "GM12878"
   ]
  },
  {
   "cell_type": "code",
   "execution_count": 502,
   "metadata": {
    "collapsed": false
   },
   "outputs": [
    {
     "name": "stdout",
     "output_type": "stream",
     "text": [
      "0.141788668998 0.121331367\n",
      "0.0613513979839 0.0321967687979\n",
      "Average AUC PR (DeepSEA) 0.242941274308\n",
      "Average AUC PR (DeepATAC) 0.34321083507\n",
      "Average AUC ROC (DeepSEA) 0.803072390078\n",
      "Average AUC ROC (DeepATAC) 0.877734891012\n",
      "2 20 0.1\n"
     ]
    }
   ],
   "source": [
    "SEA_PR = []\n",
    "SEA_ROC = []\n",
    "ATAC_PR = []\n",
    "ATAC_ROC = []\n",
    "factor = []\n",
    "\n",
    "rowindex = GM12878index\n",
    "\n",
    "description = [(j.split(\"|\")[1], j.split(\"|\")[0], j.split(\"|\")[2]) for j in open(\"infile.fasta.out\", \"r\").readlines()[0].rstrip().split(\",\")[2:]]\n",
    "indexes = [i for i in range(len(description)) if description[i][1] == \"GM12878\"]\n",
    "count1 = 0\n",
    "count2 = 0\n",
    "for index in range(91):\n",
    "    truth1 = GM12878y[:, index]\n",
    "    preda = pred_deep_gm[:, index]\n",
    "    predb = pred_atac_gm[:, index]\n",
    "    \n",
    "    seapr = average_precision_score(truth1, preda)\n",
    "    atacpr = average_precision_score(truth1, predb)\n",
    "    \n",
    "    TF = description[indexes[index]][0]\n",
    "    if TF in ava_factors:\n",
    "        fimo = fimodata[TF][rowindex]/np.max(fimodata[TF][rowindex])\n",
    "        fimo = fimo\n",
    "        # fimo = addsmallnoise(np.multiply(fimodata[TF][rowindex], gm12878[rowindex]))\n",
    "        fimopr = average_precision_score(truth1, fimo)\n",
    "        if fimopr > atacpr:\n",
    "            print fimopr, atacpr\n",
    "            count1 += 1\n",
    "        count2 += 1\n",
    "\n",
    "    \n",
    "    if TF[:3] != \"Pol\":\n",
    "        SEA_PR.append(seapr)\n",
    "        SEA_ROC.append(roc_auc_score(truth1, preda))\n",
    "        factor.append(description[indexes[index]][0])\n",
    "\n",
    "\n",
    "        ATAC_PR.append(atacpr)\n",
    "        ATAC_ROC.append(roc_auc_score(truth1, predb))\n",
    "    \n",
    "print \"Average AUC PR (DeepSEA)\", np.mean(SEA_PR)\n",
    "print \"Average AUC PR (DeepATAC)\", np.mean(ATAC_PR)\n",
    "\n",
    "print \"Average AUC ROC (DeepSEA)\", np.mean(SEA_ROC)\n",
    "print \"Average AUC ROC (DeepATAC)\", np.mean(ATAC_ROC)\n",
    "\n",
    "\n",
    "\n",
    "print count1, count2, count1*1.0/count2"
   ]
  },
  {
   "cell_type": "code",
   "execution_count": 503,
   "metadata": {
    "collapsed": false
   },
   "outputs": [
    {
     "name": "stdout",
     "output_type": "stream",
     "text": [
      "83\n",
      "0.988095238095\n"
     ]
    }
   ],
   "source": [
    "nm =  sum([SEA_PR[i] < ATAC_PR[i] for i in range(len(SEA_PR))])\n",
    "print nm\n",
    "print nm*1.0/len(SEA_PR)"
   ]
  },
  {
   "cell_type": "code",
   "execution_count": 504,
   "metadata": {
    "collapsed": false,
    "scrolled": true
   },
   "outputs": [],
   "source": [
    "#sorted([(ATAC_PR[i]-SEA_PR[i], factor[i], i) for i in range(len(SEA_PR))], key=lambda x:x[0])"
   ]
  },
  {
   "cell_type": "code",
   "execution_count": 506,
   "metadata": {
    "collapsed": false
   },
   "outputs": [
    {
     "data": {
      "image/png": "[encoded data removed]",
      "text/plain": [
       "<matplotlib.figure.Figure at 0x7fb58ede8410>"
      ]
     },
     "metadata": {},
     "output_type": "display_data"
    }
   ],
   "source": [
    "plt.figure(figsize=(4,4))\n",
    "plt.plot([0,1],[0,1])\n",
    "plt.scatter(SEA_PR, ATAC_PR, linewidth=0, alpha=0.5)\n",
    "plt.ylim(0,1)\n",
    "plt.xlim(0,1)\n",
    "plt.ylabel(\"Area under PR curves\\nof DeepATAC (AVG: 0.34)\")\n",
    "plt.xlabel(\"Area under PR curves\\nof DeepSEA (AVG: 0.25)\")\n",
    "plt.tight_layout()\n",
    "plt.title(\"GM12878\")\n",
    "plt.savefig(\"scattergm.png\")"
   ]
  },
  {
   "cell_type": "markdown",
   "metadata": {},
   "source": [
    "K562"
   ]
  },
  {
   "cell_type": "code",
   "execution_count": 508,
   "metadata": {
    "collapsed": false
   },
   "outputs": [
    {
     "name": "stdout",
     "output_type": "stream",
     "text": [
      "0.101550048955 0.01995727973\n",
      "Average AUC PR (DeepSEA) 0.227462621409\n",
      "Average AUC PR (DeepATAC) 0.324449723779\n",
      "Average AUC ROC (DeepSEA) 0.836519555274\n",
      "Average AUC ROC (DeepATAC) 0.902771710564\n",
      "1 39 0.025641025641\n"
     ]
    }
   ],
   "source": [
    "SEA_PR = []\n",
    "SEA_ROC = []\n",
    "ATAC_PR = []\n",
    "ATAC_ROC = []\n",
    "\n",
    "description = [(j.split(\"|\")[1], j.split(\"|\")[0], j.split(\"|\")[2]) for j in open(\"infile.fasta.out\", \"r\").readlines()[0].rstrip().split(\",\")[2:]]\n",
    "indexes = [i for i in range(len(description)) if description[i][1] == \"K562\"]\n",
    "\n",
    "count1 = 0\n",
    "count2 = 0\n",
    "rowindex = K562index\n",
    "\n",
    "for index in range(163):\n",
    "    truth1 = K562y[:, index]#[k562[rowindex]]\n",
    "    preda = pred_deep_k[:, index]#[k562[rowindex]]\n",
    "    predb = pred_atac_k[:, index]#[k562[rowindex]]\n",
    "    if sum(truth1) > 0:\n",
    "        \n",
    "        TF = description[indexes[index]][0]\n",
    "        atacpr = average_precision_score(truth1, predb)\n",
    "        \n",
    "        if TF in ava_factors:\n",
    "            fimo = fimodata[TF][rowindex]/np.max(fimodata[TF][rowindex])\n",
    "            #fimo = addsmallnoise(np.multiply(fimodata[TF][rowindex], k562[rowindex]))\n",
    "            fimo = fimo#[k562[rowindex]]\n",
    "            fimopr = average_precision_score(truth1, fimo)\n",
    "            if fimopr > atacpr:\n",
    "                print fimopr, atacpr\n",
    "                count1 += 1\n",
    "            count2 += 1\n",
    "        \n",
    "        if TF[:3] != \"Pol\":\n",
    "            SEA_PR.append(average_precision_score(truth1, preda))\n",
    "            SEA_ROC.append(roc_auc_score(truth1, preda))\n",
    "            factor.append(description[indexes[index]][0])\n",
    "\n",
    "            ATAC_PR.append(average_precision_score(truth1, predb))\n",
    "            ATAC_ROC.append(roc_auc_score(truth1, predb))\n",
    "    \n",
    "print \"Average AUC PR (DeepSEA)\", np.mean(SEA_PR)\n",
    "print \"Average AUC PR (DeepATAC)\", np.mean(ATAC_PR)\n",
    "\n",
    "print \"Average AUC ROC (DeepSEA)\", np.mean(SEA_ROC)\n",
    "print \"Average AUC ROC (DeepATAC)\", np.mean(ATAC_ROC)\n",
    "\n",
    "print count1, count2, count1*1.0/count2"
   ]
  },
  {
   "cell_type": "code",
   "execution_count": 509,
   "metadata": {
    "collapsed": false
   },
   "outputs": [
    {
     "data": {
      "image/png": "[encoded data removed]",
      "text/plain": [
       "<matplotlib.figure.Figure at 0x7fb58ecf9410>"
      ]
     },
     "metadata": {},
     "output_type": "display_data"
    }
   ],
   "source": [
    "plt.figure(figsize=(4,4))\n",
    "plt.plot([0,1],[0,1])\n",
    "plt.scatter(SEA_PR, ATAC_PR, linewidth=0, alpha=0.5)\n",
    "plt.ylim(0,1)\n",
    "plt.xlim(0,1)\n",
    "plt.ylabel(\"Area under PR curves\\nof DeepATAC (AVG: 0.32)\")\n",
    "plt.xlabel(\"Area under PR curves\\nof DeepSEA (AVG: 0.22)\")\n",
    "plt.tight_layout()\n",
    "plt.title(\"K562\")\n",
    "plt.savefig(\"scatterk.png\")"
   ]
  },
  {
   "cell_type": "code",
   "execution_count": 498,
   "metadata": {
    "collapsed": false
   },
   "outputs": [
    {
     "name": "stdout",
     "output_type": "stream",
     "text": [
      "146\n",
      "0.979865771812\n"
     ]
    }
   ],
   "source": [
    "nm =  sum([SEA_PR[i] < ATAC_PR[i] for i in range(len(SEA_PR))])\n",
    "print nm\n",
    "print nm*1.0/len(SEA_PR)"
   ]
  },
  {
   "cell_type": "code",
   "execution_count": 208,
   "metadata": {
    "collapsed": false
   },
   "outputs": [
    {
     "data": {
      "text/plain": [
       "[(-0.0050599923951256918, 'BCL11A', 6),\n",
       " (-0.00062462483927485041, 'ELF1', 113),\n",
       " (-0.00018914176088400889, 'MAZ', 59),\n",
       " (0.00068948917130608189, 'E2F6', 111),\n",
       " (0.0027456093325829989, 'YY1', 140),\n",
       " (0.0060578190974247964, 'c-Jun', 159),\n",
       " (0.0066086621531032952, 'c-Myc', 161),\n",
       " (0.007384229049282362, 'FOSL1', 115),\n",
       " (0.0081447299189836182, 'SRF', 132),\n",
       " (0.009928135023187918, 'PHF8', 99),\n",
       " (0.010181867563694325, 'ZBTB7A', 143),\n",
       " (0.010800185593596363, 'CTCFL', 110),\n",
       " (0.012700413535828552, 'CTCF', 88),\n",
       " (0.013037014231739062, 'JunD', 57),\n",
       " (0.016021691127040882, 'BHLHE40', 46),\n",
       " (0.016447713639753107, 'ATF2', 3),\n",
       " (0.016507075293822879, 'ZBTB33', 44),\n",
       " (0.017329268730521687, 'BATF', 5),\n",
       " (0.020408328050631905, 'Znf143', 84),\n",
       " (0.021936374654637894, 'SP2', 131),\n",
       " (0.022246768784167849, 'GABP', 116),\n",
       " (0.022323549127187148, 'TRIM28', 138),\n",
       " (0.023556743602450442, 'c-Jun', 160),\n",
       " (0.029167128685052973, 'ZNF274', 85),\n",
       " (0.031024085786732575, 'CCNT2', 152),\n",
       " (0.031490644903352794, 'c-Myc', 87),\n",
       " (0.03209913937573762, 'GATA2', 117),\n",
       " (0.033940854077879126, 'TCF3', 41),\n",
       " (0.035018783966428324, 'STAT5A', 133),\n",
       " (0.038341917826032801, 'Bach1', 147),\n",
       " (0.045017429843615342, 'MTA3', 19),\n",
       " (0.046425214649488643, 'NRSF', 122),\n",
       " (0.049507565343545459, 'GABP', 15),\n",
       " (0.04986471193440889, 'c-Jun', 157),\n",
       " (0.051104455687548192, 'FOXM1', 14),\n",
       " (0.056031284572819501, 'CTCF', 1),\n",
       " (0.056367071902329813, 'CTCF', 52),\n",
       " (0.056783851280618899, 'Pol2', 89),\n",
       " (0.058140439680123779, 'NFATC1', 20),\n",
       " (0.058580186693386799, 'TAF1', 134),\n",
       " (0.058628987246424402, 'RBBP5', 102),\n",
       " (0.060486077624650386, 'ELK1', 55),\n",
       " (0.061415598780367953, 'TBLR1', 78),\n",
       " (0.061589579145122197, 'NFKB', 62),\n",
       " (0.062563342080485029, 'CEBPB', 153),\n",
       " (0.062656251908524141, 'USF-1', 139),\n",
       " (0.065287466464225008, 'EZH2', 94),\n",
       " (0.065616330010005219, 'SP1', 36),\n",
       " (0.066258732896886441, 'Pol2-4H8', 124),\n",
       " (0.066935215609092769, 'USF2', 81),\n",
       " (0.067004676864546808, 'MEF2C', 18),\n",
       " (0.06735207345799582, 'ELF1', 12),\n",
       " (0.068257287138905262, 'PU.1', 126),\n",
       " (0.069224170148099881, 'Mxi1', 60),\n",
       " (0.070455486942464118, 'ATF3', 4),\n",
       " (0.070606086129971879, 'EZH2', 2),\n",
       " (0.070909726571997345, 'TCF12', 40),\n",
       " (0.07159783683276702, 'HDAC2', 118),\n",
       " (0.071905404329974082, 'p300', 98),\n",
       " (0.072024989032923759, 'Pol2', 29),\n",
       " (0.073186551010408718, 'SRF', 37),\n",
       " (0.073555723428589181, 'p300', 23),\n",
       " (0.074235969947910457, 'NR2F2', 121),\n",
       " (0.074788045458799746, 'ETS1', 114),\n",
       " (0.075951551206791923, 'HDAC1', 95),\n",
       " (0.078355505307006523, 'c-Fos', 48),\n",
       " (0.081083482565910969, 'TR4', 80),\n",
       " (0.083875444796697451, 'TBP', 79),\n",
       " (0.085478056317640022, 'CTCF', 90),\n",
       " (0.086697334842415347, 'STAT5A', 38),\n",
       " (0.087174005380570629, 'BHLHE40', 149),\n",
       " (0.088406996962936218, 'PU.1', 31),\n",
       " (0.091268532808647218, 'Egr-1', 11),\n",
       " (0.091399769890834648, 'BCLAF1', 106),\n",
       " (0.091537807670986071, 'ZZZ3', 86),\n",
       " (0.092398863361374817, 'CTCF', 109),\n",
       " (0.09315544886345134, 'PLU1', 100),\n",
       " (0.094417342717727837, 'NF-YB', 64),\n",
       " (0.095223997141965944, 'SP1', 130),\n",
       " (0.095438082793941864, 'IKZF1', 56),\n",
       " (0.098215266015665548, 'BCL3', 105),\n",
       " (0.10063016195040808, 'IRF4', 16),\n",
       " (0.10198536962822141, 'Max', 58),\n",
       " (0.10201696959678358, 'SMC3', 75),\n",
       " (0.10267847115712914, 'CEBPB', 9),\n",
       " (0.10269203948486358, 'EBF1', 10),\n",
       " (0.10424127771478059, 'SAP30', 103),\n",
       " (0.10536246672966587, 'YY1', 43),\n",
       " (0.10581059305623169, 'Max', 119),\n",
       " (0.10627763087915912, 'PML', 27),\n",
       " (0.10655350676323977, 'CTCF', 93),\n",
       " (0.10670688467545847, 'Pol3', 71),\n",
       " (0.10732410753016883, 'Sin3Ak-20', 128),\n",
       " (0.10913666080879836, 'THAP1', 137),\n",
       " (0.10918156635838633, 'CBX3', 107),\n",
       " (0.10949727890864368, 'Pol2', 125),\n",
       " (0.11091924109470458, 'NF-E2', 61),\n",
       " (0.11162971684363859, 'Pol2', 70),\n",
       " (0.11245740991495445, 'ATF3', 146),\n",
       " (0.11457631130562174, 'RXRA', 34),\n",
       " (0.11549399303847846, 'MEF2A', 120),\n",
       " (0.11590915701940741, 'DNase', 0),\n",
       " (0.11644522555305503, 'CEBPB', 108),\n",
       " (0.116939934722877, 'BDP1', 148),\n",
       " (0.11814890155326407, 'TAF1', 39),\n",
       " (0.11844844084783501, 'BRF2', 150),\n",
       " (0.11862547705196397, 'YY1', 141),\n",
       " (0.11864271891923672, 'Pol2-4H8', 28),\n",
       " (0.11873787433366878, 'SIN3A', 74),\n",
       " (0.11953093404380866, 'PAX5-C20', 24),\n",
       " (0.12279531986816272, 'MEF2A', 17),\n",
       " (0.12353740361607242, 'STAT1', 76),\n",
       " (0.12407543621288003, 'HDAC6', 97),\n",
       " (0.12489005880691162, 'Pol2(b)', 101),\n",
       " (0.1253202561703472, 'Egr-1', 112),\n",
       " (0.12583995874865317, 'ARID3A', 144),\n",
       " (0.12679489983764042, 'ETS1', 13),\n",
       " (0.12867304805662755, 'E2F4', 53),\n",
       " (0.128741455983862, 'BCLAF1', 8),\n",
       " (0.129504886571151, 'c-Fos', 154),\n",
       " (0.13117580073097579, 'DNase', 91),\n",
       " (0.13174056756556785, 'HDAC2', 96),\n",
       " (0.13176757792007665, 'COREST', 51),\n",
       " (0.1330545141572077, 'TAF7', 135),\n",
       " (0.13668874199019065, 'PAX5-N19', 25),\n",
       " (0.13669691903800396, 'CHD1', 49),\n",
       " (0.13953434485844346, 'PML', 123),\n",
       " (0.13995219119830443, 'RFX5', 73),\n",
       " (0.14205120474063798, 'NRSF', 22),\n",
       " (0.1424936718851974, 'Rad21', 32),\n",
       " (0.14255185096495376, 'NF-YA', 63),\n",
       " (0.14306499391888738, 'CHD1', 92),\n",
       " (0.14402302218819801, 'Rad21', 72),\n",
       " (0.14473606639982417, 'POU2F2', 30),\n",
       " (0.14677441352570231, 'Pol2(phosphoS2)', 69),\n",
       " (0.14789790878936648, 'c-Jun', 156),\n",
       " (0.15130020946959577, 'RUNX3', 33),\n",
       " (0.15150056073411922, 'CHD2', 50),\n",
       " (0.15171655351063335, 'STAT3', 77),\n",
       " (0.15187564117356606, 'Rad21', 127),\n",
       " (0.15529006491970687, 'c-Jun', 158),\n",
       " (0.15563611623131979, 'CHD2', 155),\n",
       " (0.15613883202324386, 'ATF1', 145),\n",
       " (0.16055587700202986, 'EBF1', 54),\n",
       " (0.16412392279778523, 'ZBTB33', 142),\n",
       " (0.16688253755199173, 'p300', 66),\n",
       " (0.16996288461190076, 'BRCA1', 47),\n",
       " (0.17335722007698123, 'NFIC', 21),\n",
       " (0.17383792033451406, 'WHIP', 82),\n",
       " (0.17805860886269304, 'ZEB1', 45),\n",
       " (0.18004952001945607, 'Brg1', 151),\n",
       " (0.18193532467150833, 'Nrf1', 65),\n",
       " (0.18366262045014309, 'Pbx3', 26),\n",
       " (0.19121417933463028, 'Pol2', 68),\n",
       " (0.19524538128198185, 'p300', 67),\n",
       " (0.20382963206972191, 'TEAD4', 136),\n",
       " (0.20452356421506446, 'YY1', 83),\n",
       " (0.20848808378390662, 'SIX5', 129),\n",
       " (0.20907011946803836, 'ATF3', 104),\n",
       " (0.22224898420704842, 'USF-1', 42),\n",
       " (0.23308282786208118, 'BCL3', 7),\n",
       " (0.25114295093867423, 'SIX5', 35)]"
      ]
     },
     "execution_count": 208,
     "metadata": {},
     "output_type": "execute_result"
    }
   ],
   "source": [
    "sorted([(ATAC_PR[i]-SEA_PR[i], factor[i], i) for i in range(len(SEA_PR))], key=lambda x:x[0])"
   ]
  },
  {
   "cell_type": "markdown",
   "metadata": {},
   "source": [
    "# Loading centipede results & validating fimo result"
   ]
  },
  {
   "cell_type": "code",
   "execution_count": 45,
   "metadata": {
    "collapsed": false
   },
   "outputs": [],
   "source": [
    "temp = [i.rstrip().split(\"\\t\") for i in open(\"../allTFs.pos.bed\").readlines()]\n",
    "positions = [[i[0], int(i[1]), int(i[2]), i[3], i[4], i[5]] for i in temp]\n",
    "\n",
    "trainpos = positions[0:2200000]\n",
    "validpos = positions[2200000:2204000]\n",
    "testpos = [i for i in positions[2204000:] if i[0] == \"chr8\" or i[0] == \"chr9\"]"
   ]
  },
  {
   "cell_type": "code",
   "execution_count": 46,
   "metadata": {
    "collapsed": false
   },
   "outputs": [],
   "source": [
    "def loadcentipede(filename, flank=50):\n",
    "    raw = open(filename).readlines()\n",
    "    raw = [i.rstrip().split(\"\\t\") for i in raw]\n",
    "    data = [[i[0], int(i[1]), int(i[2]), float(i[3])] for i in raw if i[0] == \"chr8\" or i[0] == \"chr9\"]\n",
    "    index = 0\n",
    "    prediction = np.zeros(len(testpos))\n",
    "    count = 0\n",
    "    for d in data:\n",
    "        flag = True\n",
    "        while index < len(testpos) and flag:\n",
    "            line = testpos[index]\n",
    "            if line[0] == d[0] and line[1] <= d[1]+flank and d[2]-flank <= line[2]:\n",
    "                if prediction[index] < d[3]:\n",
    "                    prediction[index] = d[3]\n",
    "                count += 1\n",
    "                flag = False\n",
    "            else:\n",
    "                index+=1\n",
    "    assert len(data)==count\n",
    "    return prediction"
   ]
  },
  {
   "cell_type": "code",
   "execution_count": 47,
   "metadata": {
    "collapsed": false
   },
   "outputs": [],
   "source": [
    "def loadfimo(filename):\n",
    "    raw = [i.rstrip().split(\"\\t\") for i in open(filename).readlines()]\n",
    "    header = raw[0]\n",
    "    data = [[i[1],int(i[2]),int(i[3]),float(i[5])] for i in raw[1:] if i[1] == \"chr8\" or i[1] == \"chr9\"]\n",
    "\n",
    "    index = 0\n",
    "    prediction = np.zeros(len(testpos))\n",
    "    flank = 0\n",
    "    count = 0\n",
    "\n",
    "    for d in data:\n",
    "        flag = True\n",
    "        while index < len(testpos) and flag:\n",
    "            line = testpos[index]\n",
    "            if line[0] == d[0] and line[1] <= d[1] and d[2] <= line[2]:\n",
    "                if prediction[index] < d[3]:\n",
    "                    prediction[index] = d[3]\n",
    "                    #print line, d, index\n",
    "                    #print prediction[index]\n",
    "                count += 1\n",
    "                flag = False\n",
    "            else:\n",
    "                index+=1\n",
    "    assert len(data) == count\n",
    "    return prediction "
   ]
  },
  {
   "cell_type": "code",
   "execution_count": 48,
   "metadata": {
    "collapsed": false
   },
   "outputs": [],
   "source": [
    "def loadbed(filename):\n",
    "    raw = [i.rstrip().split(\"\\t\") for i in open(filename).readlines()]\n",
    "    header = raw[0]\n",
    "    data = [[i[0], int(i[1]), int(i[2])] for i in raw if i[0] == \"chr8\" or i[0] == \"chr9\"]\n",
    "\n",
    "    index = 0\n",
    "    prediction = np.zeros(len(testpos), dtype=bool)\n",
    "    flank = 0\n",
    "    count = 0\n",
    "\n",
    "    for d in data:\n",
    "        flag = True\n",
    "        while index < len(testpos) and flag:\n",
    "            line = testpos[index]\n",
    "            if line[0] == d[0] and line[1] <= d[1] and d[2] <= line[2]:\n",
    "                prediction[index] = True\n",
    "                count += 1\n",
    "                flag = False\n",
    "            else:\n",
    "                index+=1\n",
    "    assert len(data) == count\n",
    "    print count\n",
    "    return prediction "
   ]
  },
  {
   "cell_type": "code",
   "execution_count": 49,
   "metadata": {
    "collapsed": false
   },
   "outputs": [
    {
     "name": "stdout",
     "output_type": "stream",
     "text": [
      "38105\n",
      "50483\n"
     ]
    }
   ],
   "source": [
    "k562 = loadbed(\"./atac_peaks/intersected_atac.bed\")\n",
    "gm12878 = loadbed(\"./atac_peaks/intersected_atac2.bed\")"
   ]
  },
  {
   "cell_type": "code",
   "execution_count": 50,
   "metadata": {
    "collapsed": false
   },
   "outputs": [
    {
     "name": "stdout",
     "output_type": "stream",
     "text": [
      "273\n"
     ]
    }
   ],
   "source": [
    "k562 = loadbed(\"wellington.k562.intersected.bed\")"
   ]
  },
  {
   "cell_type": "code",
   "execution_count": 51,
   "metadata": {
    "collapsed": false
   },
   "outputs": [],
   "source": [
    "fimodata = {}\n",
    "for f in ava_factors:\n",
    "    fimo_pred = loadfimo(\"../../centipede/meme_test/\"+f+\".2.fimo.txt\")\n",
    "    fimodata[f] = fimo_pred"
   ]
  },
  {
   "cell_type": "code",
   "execution_count": 52,
   "metadata": {
    "collapsed": false
   },
   "outputs": [],
   "source": [
    "test_X,  test_Y =  loaddata(\"../../ee595/data/deepsea/\", \"test\")\n",
    "test_Y = test_Y[:int(test_Y.shape[0]/2), :]"
   ]
  },
  {
   "cell_type": "code",
   "execution_count": 53,
   "metadata": {
    "collapsed": false
   },
   "outputs": [
    {
     "name": "stdout",
     "output_type": "stream",
     "text": [
      "125\n",
      "K562\n",
      "('CTCF', 'Dnd41', 'None')\n"
     ]
    }
   ],
   "source": [
    "TF = \"CTCF\"\n",
    "indexes = [i for i in range(len(description)) if description[i][0]==TF][:20]\n",
    "index = indexes[0]\n",
    "print index\n",
    "print celltype\n",
    "print description[index]"
   ]
  },
  {
   "cell_type": "code",
   "execution_count": 40,
   "metadata": {
    "collapsed": false
   },
   "outputs": [],
   "source": [
    "centipede = loadcentipede(\"../../centipede/please_work.txt\")"
   ]
  },
  {
   "cell_type": "code",
   "execution_count": 41,
   "metadata": {
    "collapsed": false
   },
   "outputs": [
    {
     "data": {
      "text/plain": [
       "array([ 0.99935542,  0.        ,  0.        , ...,  0.        ,\n",
       "        0.        ,  0.        ])"
      ]
     },
     "execution_count": 41,
     "metadata": {},
     "output_type": "execute_result"
    }
   ],
   "source": [
    "centipede"
   ]
  },
  {
   "cell_type": "code",
   "execution_count": 57,
   "metadata": {
    "collapsed": false,
    "scrolled": false
   },
   "outputs": [
    {
     "name": "stdout",
     "output_type": "stream",
     "text": [
      "cent: 0.40094226424\n",
      "Random: 0.0223328879356\n"
     ]
    },
    {
     "data": {
      "image/png": "[encoded data removed]",
      "text/plain": [
       "<matplotlib.figure.Figure at 0x7f638672ed50>"
      ]
     },
     "metadata": {},
     "output_type": "display_data"
    }
   ],
   "source": [
    "count = 0\n",
    "for index in indexes:\n",
    "    truth = test_Y[:, index]\n",
    "    \n",
    "    plt.figure(figsize=(4,3))\n",
    "    \n",
    "    fpr, tpr, _ = precision_recall_curve(truth, np.multiply(fimodata[\"CTCF\"], k562))\n",
    "    plt.plot(tpr, fpr, label=\"FIMO+ATAC_filter\")\n",
    "    \n",
    "    fpr, tpr, _ = precision_recall_curve(truth, fimodata[\"CTCF\"])\n",
    "    plt.plot(tpr, fpr, label=\"FIMO\")\n",
    "    \n",
    "    fpr, tpr, _ = precision_recall_curve(truth, centipede)\n",
    "    plt.plot(tpr, fpr, label=\"centipede\")\n",
    "    \n",
    "    plt.xlabel(\"fpr\")\n",
    "    plt.ylabel(\"tpr\")\n",
    "    plt.title(\"centipede\")\n",
    "    plt.legend()\n",
    "    plt.ylim(0,1)\n",
    "    plt.xlim(0,0.01)\n",
    "\n",
    "    print \"cent:\", average_precision_score(truth, prediction1)\n",
    "    print \"Random:\", sum(truth)*1.0/len(truth)\n",
    "    if count == 0:\n",
    "        break\n",
    "    count += 1"
   ]
  },
  {
   "cell_type": "code",
   "execution_count": null,
   "metadata": {
    "collapsed": true
   },
   "outputs": [],
   "source": []
  },
  {
   "cell_type": "markdown",
   "metadata": {
    "collapsed": true
   },
   "source": [
    "# fimo"
   ]
  },
  {
   "cell_type": "code",
   "execution_count": null,
   "metadata": {
    "collapsed": true
   },
   "outputs": [],
   "source": []
  }
 ],
 "metadata": {
  "kernelspec": {
   "display_name": "Python 2",
   "language": "python",
   "name": "python2"
  },
  "language_info": {
   "codemirror_mode": {
    "name": "ipython",
    "version": 2
   },
   "file_extension": ".py",
   "mimetype": "text/x-python",
   "name": "python",
   "nbconvert_exporter": "python",
   "pygments_lexer": "ipython2",
   "version": "2.7.13"
  }
 },
 "nbformat": 4,
 "nbformat_minor": 2
}
