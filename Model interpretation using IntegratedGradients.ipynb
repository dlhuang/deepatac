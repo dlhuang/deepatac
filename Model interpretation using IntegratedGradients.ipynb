{
 "cells": [
  {
   "cell_type": "code",
   "execution_count": 1,
   "metadata": {
    "collapsed": false
   },
   "outputs": [
    {
     "name": "stderr",
     "output_type": "stream",
     "text": [
      "Using Theano backend.\n",
      "WARNING (theano.sandbox.cuda): The cuda backend is deprecated and will be removed in the next release (v0.10).  Please switch to the gpuarray backend. You can get more information about how to switch at this URL:\n",
      " https://github.com/Theano/Theano/wiki/Converting-to-the-new-gpu-back-end%28gpuarray%29\n",
      "\n",
      "Using gpu device 0: GeForce GTX 980 Ti (CNMeM is disabled, cuDNN 5005)\n"
     ]
    }
   ],
   "source": [
    "%matplotlib inline\n",
    "\n",
    "import sys\n",
    "\n",
    "from keras.models import Sequential\n",
    "from keras.layers import Flatten, Dense, Dropout, Merge\n",
    "from keras.layers import Reshape\n",
    "from keras.layers.core import Activation\n",
    "from keras.layers.normalization import BatchNormalization\n",
    "from keras.layers.convolutional import UpSampling2D\n",
    "from keras.layers.convolutional import Conv2D, MaxPooling2D\n",
    "from keras.layers.core import Flatten\n",
    "from keras.optimizers import SGD\n",
    "from keras import regularizers\n",
    "from keras.callbacks import ModelCheckpoint\n",
    "from keras.layers import Concatenate\n",
    "\n",
    "from sklearn.preprocessing import binarize\n",
    "from sklearn.metrics import average_precision_score\n",
    "from sklearn.metrics import roc_auc_score, roc_curve\n",
    "from sklearn.metrics import precision_recall_curve\n",
    "from sklearn.metrics import average_precision_score\n",
    "from keras import optimizers\n",
    "\n",
    "import numpy as np\n",
    "import scipy as sp\n",
    "import scipy.io as sio\n",
    "\n",
    "import h5py\n",
    "\n",
    "import seaborn as sns\n",
    "import matplotlib.pyplot as plt\n",
    "\n",
    "import pickle\n",
    "from keras.models import load_model\n",
    "import keras.models\n",
    "\n",
    "sys.path.append(\"../../IntegratedGradients\")\n",
    "from IntegratedGradients import integrated_gradients"
   ]
  },
  {
   "cell_type": "code",
   "execution_count": 112,
   "metadata": {
    "collapsed": true
   },
   "outputs": [],
   "source": [
    "base = \"processed_data_K562/\"\n",
    "\n",
    "test_X = np.load(base+\"testx.npy\")\n",
    "test_Y = np.load(base+\"testy.npy\")\n",
    "testindex = np.load(base+\"testindex.npy\")\n",
    "testindex = testindex[:len(testindex)/2]\n",
    "ATAC_test2 = np.load(base+\"atactest2.npy\")\n",
    "ATAC_test2 = ATAC_test2[testindex, :]\n",
    "ATAC_test2 = np.expand_dims(ATAC_test2, 1)\n",
    "ATAC_test3 = (ATAC_test2 > 0).astype(np.int_)\n",
    "test_X2 = np.concatenate([test_X, ATAC_test3], axis=3)"
   ]
  },
  {
   "cell_type": "code",
   "execution_count": 113,
   "metadata": {
    "collapsed": true
   },
   "outputs": [],
   "source": [
    "description = [(j.split(\"|\")[1], j.split(\"|\")[0]) for j in open(\"infile.fasta.out\", \"r\").readlines()[0].rstrip().split(\",\")[2:]]"
   ]
  },
  {
   "cell_type": "code",
   "execution_count": 114,
   "metadata": {
    "collapsed": false
   },
   "outputs": [],
   "source": [
    "channels = [i for i in description if i[1] == \"K562\"]"
   ]
  },
  {
   "cell_type": "code",
   "execution_count": 115,
   "metadata": {
    "collapsed": false
   },
   "outputs": [],
   "source": [
    "model1 = load_model(\"deepatac_k562_binary.hdf5\")"
   ]
  },
  {
   "cell_type": "code",
   "execution_count": 196,
   "metadata": {
    "collapsed": false
   },
   "outputs": [],
   "source": [
    "prediction1 = model1.predict(test_X2)\n",
    "#prediction2 = model2.predict(test_X)"
   ]
  },
  {
   "cell_type": "code",
   "execution_count": 197,
   "metadata": {
    "collapsed": false
   },
   "outputs": [
    {
     "name": "stdout",
     "output_type": "stream",
     "text": [
      "('CTCF', 'K562')\n"
     ]
    }
   ],
   "source": [
    "index = 2\n",
    "print channels[index]"
   ]
  },
  {
   "cell_type": "code",
   "execution_count": 198,
   "metadata": {
    "collapsed": false
   },
   "outputs": [
    {
     "name": "stdout",
     "output_type": "stream",
     "text": [
      "Evaluated output channels (0-based index): 2\n",
      "Building gradient functions\n",
      "Progress: 100.0%\n",
      "Done.\n"
     ]
    }
   ],
   "source": [
    "ig1 = integrated_gradients(model1, outchannels=[index])\n",
    "#ig2 = integrated_gradients(model2, outchannels=[index])"
   ]
  },
  {
   "cell_type": "code",
   "execution_count": 205,
   "metadata": {
    "collapsed": true
   },
   "outputs": [],
   "source": [
    "fps = [i for i in range(test_Y.shape[0]) if test_Y[i,index] == 1 and prediction1[i,index] > 0.85]"
   ]
  },
  {
   "cell_type": "code",
   "execution_count": 208,
   "metadata": {
    "collapsed": true
   },
   "outputs": [],
   "source": [
    "def extract_max_window(matrix, size=30, step=5):\n",
    "    _max = 0\n",
    "    _max_window = None\n",
    "    index = None\n",
    "    for i in range(0, matrix.shape[1]-size, step):\n",
    "        window = matrix[:, i:i+size]\n",
    "        if np.sum(window) > _max:\n",
    "            _max = np.sum(window)\n",
    "            _max_window = window\n",
    "            index = (i, i+size)\n",
    "    return _max_window, index"
   ]
  },
  {
   "cell_type": "code",
   "execution_count": 280,
   "metadata": {
    "collapsed": false
   },
   "outputs": [
    {
     "name": "stdout",
     "output_type": "stream",
     "text": [
      "DeepATAC\n",
      "40\n",
      "0.0314374354753\n",
      "(1, 200, 6) 40\n",
      "(4, 80)\n",
      "40\n"
     ]
    },
    {
     "data": {
      "image/png": "[encoded data removed]",
      "text/plain": [
       "<matplotlib.figure.Figure at 0x7f6b7c2bfb90>"
      ]
     },
     "metadata": {},
     "output_type": "display_data"
    }
   ],
   "source": [
    "i = fps[0]\n",
    "print \"DeepATAC\"\n",
    "print i\n",
    "wrange = (70,150)\n",
    "\n",
    "ref = np.zeros((1,200,6))\n",
    "avgs = np.mean(test_X2[:,0,:,4:])\n",
    "print avgs\n",
    "for j in range(200):\n",
    "    ref[0,j,4] = 1\n",
    "    ref[0,j,5] = 1\n",
    "    \n",
    "explanation = ig1.explain(test_X2[i], reference=ref)\n",
    "print explanation.shape, i\n",
    "explanation2 = ig1.explain(test_X2[i])\n",
    "\n",
    "explanation = (explanation+explanation2)/2\n",
    "\n",
    "\n",
    "plt.figure(figsize=(12,3))\n",
    "plt.subplot(311)\n",
    "window = np.transpose(explanation[0])[:4,:][:,wrange[0]:wrange[1]]\n",
    "print window.shape\n",
    "wsize = window.shape[1]\n",
    "# A\n",
    "plt.bar(range(wsize), window[0,:], color=\"green\", width=1, linewidth=0, alpha=0.7)\n",
    "# G\n",
    "plt.bar(range(wsize), window[1,:], bottom=window[0,:], color=\"orange\", width=1, linewidth=0, alpha=0.7)\n",
    "# C\n",
    "plt.bar(range(wsize), window[2,:], bottom=window[0,:]+window[1,:], color=\"blue\", width=1, linewidth=0, alpha=0.7)\n",
    "# T \n",
    "plt.bar(range(wsize), window[3,:], bottom=window[0,:]+window[1,:]+window[2,:], color=\"red\", width=1, linewidth=0, alpha=0.7)\n",
    "plt.yticks([],[])\n",
    "plt.xticks([],[])\n",
    "plt.xlim(0,wsize)\n",
    "xl = wsize\n",
    "\n",
    "plt.subplot(312)\n",
    "window = np.transpose(explanation[0])[4:,:]\n",
    "temp = np.zeros((2, window.shape[1]+9,))\n",
    "for j in range(window.shape[1]):\n",
    "    temp[0, j] = window[0, j]\n",
    "    temp[1, j+9] = window[1, j]\n",
    "window = temp[:, 5:205][:,wrange[0]:wrange[1]]\n",
    "wsize = window.shape[1]\n",
    "\n",
    "plt.plot([j for j in range(wsize)], window[0, :], color=\"blue\")\n",
    "plt.plot([j for j in range(wsize)], window[1, :], color=\"red\")\n",
    "plt.yticks([],[])\n",
    "plt.axhline(0, color=\"black\")\n",
    "plt.xticks([],[])\n",
    "plt.xlim(0,wsize)\n",
    "\n",
    "plt.subplot(313)\n",
    "window = np.transpose(test_X2[i][0])[4:,:]\n",
    "temp = np.zeros((2, window.shape[1]+9,))\n",
    "for j in range(window.shape[1]):\n",
    "    temp[0, j] = window[0, j]\n",
    "    temp[1, j+9] = window[1, j]\n",
    "window = temp[:, 5:205][:,wrange[0]:wrange[1]]\n",
    "sns.heatmap(window, cbar=False)\n",
    "plt.yticks([],[])\n",
    "plt.xticks([],[])\n",
    "plt.xlim(0,window.shape[1])\n",
    "plt.tight_layout()\n",
    "plt.savefig(\"explanation.png\")\n",
    "print i"
   ]
  },
  {
   "cell_type": "code",
   "execution_count": null,
   "metadata": {
    "collapsed": true
   },
   "outputs": [],
   "source": []
  }
 ],
 "metadata": {
  "kernelspec": {
   "display_name": "Python 2",
   "language": "python",
   "name": "python2"
  },
  "language_info": {
   "codemirror_mode": {
    "name": "ipython",
    "version": 2
   },
   "file_extension": ".py",
   "mimetype": "text/x-python",
   "name": "python",
   "nbconvert_exporter": "python",
   "pygments_lexer": "ipython2",
   "version": "2.7.13"
  }
 },
 "nbformat": 4,
 "nbformat_minor": 2
}
